{
 "cells": [
  {
   "cell_type": "markdown",
   "metadata": {},
   "source": [
    "# Les opérations mathématiques de Python"
   ]
  },
  {
   "cell_type": "code",
   "execution_count": 1,
   "metadata": {},
   "outputs": [
    {
     "name": "stdout",
     "output_type": "stream",
     "text": [
      "15\n",
      "-3\n",
      "18\n",
      "0.8\n"
     ]
    }
   ],
   "source": [
    "# + - * / : Les Opérateurs basiques\n",
    "\n",
    "# Python fonctionne comme une calculatrice :\n",
    "\n",
    "print(7+8) # Addition\n",
    "print(4-7) # Soustraction\n",
    "print(3*6) # Multiplication\n",
    "print(4/5) # Division"
   ]
  },
  {
   "cell_type": "code",
   "execution_count": 2,
   "metadata": {},
   "outputs": [
    {
     "name": "stdout",
     "output_type": "stream",
     "text": [
      "5\n",
      "2\n",
      "1024\n"
     ]
    }
   ],
   "source": [
    "# Autres opérations mathématiques :\n",
    "\n",
    "print(12%7)  # Reste de la division euclidienne\n",
    "print(13//6) # Division entière : on ne garde QUE la partie entière\n",
    "print(2**10) # Puissance : se lit \"2 'puissance' 10\" "
   ]
  },
  {
   "cell_type": "markdown",
   "metadata": {},
   "source": [
    "# Les opérateurs d'assignation"
   ]
  },
  {
   "cell_type": "code",
   "execution_count": 3,
   "metadata": {},
   "outputs": [],
   "source": [
    "# Il existe plein d'opérateurs d'assignation :\n",
    "\n",
    "i=0\n",
    "\n",
    "i+= 1 # i=i+1\n",
    "i -= 1 # i=i-1\n",
    "i *= 1 # i=i*1\n",
    "i /= 1 # i=i/1\n",
    "i %= 1 # i=i%1\n",
    "i //=1 # i=i//1\n",
    "i **=1 # i=i**1\n"
   ]
  },
  {
   "cell_type": "markdown",
   "metadata": {},
   "source": [
    "# Les opérateurs de comparaison"
   ]
  },
  {
   "cell_type": "markdown",
   "metadata": {},
   "source": [
    "## Les principaux opérateurs\n"
   ]
  },
  {
   "cell_type": "code",
   "execution_count": 4,
   "metadata": {},
   "outputs": [],
   "source": [
    "# >  : Plus grand que \n",
    "# <  : Plus petit que\n",
    "# >= : Plus grand ou égal à \n",
    "# <= : Plus petit ou égal à\n",
    "# == : Egal à \n",
    "# != : Différent de\n"
   ]
  },
  {
   "cell_type": "markdown",
   "metadata": {},
   "source": [
    "## DIfférences entre \"==\" et \"is\""
   ]
  },
  {
   "cell_type": "code",
   "execution_count": 5,
   "metadata": {},
   "outputs": [
    {
     "name": "stdout",
     "output_type": "stream",
     "text": [
      "[1, 2, 3] [1, 2, 3]\n",
      "a==b ? -> True\n",
      "a is b ? -> False\n",
      "Les identifiants de a et de b ne sont pas les mêmes.\n",
      " Preuve:\n",
      " id de a: 2393043447296\n",
      " id de b: 2393043447616\n"
     ]
    }
   ],
   "source": [
    "a=[1,2,3]\n",
    "b=[1,2,3]\n",
    "print(a,b)\n",
    "print(f\"a==b ? -> {a==b}\")\n",
    "print(f\"a is b ? -> {a is b}\\nLes identifiants de a et de b ne sont pas les mêmes.\\n Preuve:\\n id de a: {id(a)}\\n id de b: {id(b)}\")"
   ]
  },
  {
   "cell_type": "markdown",
   "metadata": {},
   "source": [
    "## Calcul du périmètre d'un cercle"
   ]
  },
  {
   "cell_type": "code",
   "execution_count": 6,
   "metadata": {},
   "outputs": [
    {
     "name": "stdout",
     "output_type": "stream",
     "text": [
      "Le périmètre du cercle est: 282.7433388230814\n"
     ]
    }
   ],
   "source": [
    "#Importation du nombre pi depuis une bibliothèque\n",
    "from cmath import pi\n",
    "\n",
    "r=int(input(\"Mettez le rayon du cercle:\"))\n",
    "p=2*pi*r\n",
    "print(\"Le périmètre du cercle est:\",p)"
   ]
  },
  {
   "cell_type": "markdown",
   "metadata": {},
   "source": [
    "# Les structures conditionnelles"
   ]
  },
  {
   "cell_type": "markdown",
   "metadata": {},
   "source": [
    "## Principe des structures conditionnelles"
   ]
  },
  {
   "cell_type": "code",
   "execution_count": 7,
   "metadata": {},
   "outputs": [
    {
     "name": "stdout",
     "output_type": "stream",
     "text": [
      "Les réponses des conditions suivantes retourneront une valeur <bool> (T/F).\n"
     ]
    }
   ],
   "source": [
    "# Le nombre entré par l'utilisateur est-il plus grand ou égal à 18 ?    \n",
    "# >>>> Oui (True)\n",
    "\n",
    "# Le nom d'utilisateur entré est-il dans la base de données du site ?   \n",
    "# >>>> Oui (True)\n",
    "\n",
    "# Le mot de passe de l'utilisateur contient-il au moins 8 caractères ?  \n",
    "# >>>> Non (False)\n",
    "\n",
    "print(\"Les réponses des conditions suivantes retourneront une valeur <bool> (T/F).\")"
   ]
  },
  {
   "cell_type": "code",
   "execution_count": 8,
   "metadata": {},
   "outputs": [
    {
     "name": "stdout",
     "output_type": "stream",
     "text": [
      "Vous êtes majeur !\n",
      "Vous pouvez entrer\n",
      "Le script est terminé\n",
      "Merci\n"
     ]
    }
   ],
   "source": [
    "age = 20\n",
    "langage=input(\"Mettez votre langage de programmtion\")\n",
    "if age >= 18:\n",
    "    print(\"Vous êtes majeur !\")\n",
    "    if langage == \"Python\":\n",
    "        print(\"Vous pouvez entrer\")\n",
    "print(\"Le script est terminé\")\n",
    "\n",
    "print(\"Merci\")\n",
    "#----- print(\"OK\") ------> Cela ne sert à rien de faire une idendation avec print()"
   ]
  },
  {
   "cell_type": "code",
   "execution_count": 9,
   "metadata": {},
   "outputs": [
    {
     "name": "stdout",
     "output_type": "stream",
     "text": [
      "Vous êtes mineur ! \n"
     ]
    }
   ],
   "source": [
    "age = 14\n",
    "if age >= 18:\n",
    "    print(\"Vous êtes majeur !\")  # <-------- Cette condition n'est pas respectée\n",
    "elif age <= 18:\n",
    "    print(\"Vous êtes mineur ! \") # <-------- Cette condtion est respectée\n",
    "else:\n",
    "    print(\"Vous êtes nnul ! \")   # <-------- Si les condition ci-dessus ne sont pas respectées"
   ]
  },
  {
   "cell_type": "markdown",
   "metadata": {},
   "source": [
    "## Les opérateurs ternaires"
   ]
  },
  {
   "cell_type": "code",
   "execution_count": 10,
   "metadata": {},
   "outputs": [
    {
     "name": "stdout",
     "output_type": "stream",
     "text": [
      "Vous êtes majeur !\n"
     ]
    }
   ],
   "source": [
    "# Programme a)\n",
    "\n",
    "age = 20\n",
    "if age >= 18:\n",
    "    majeur = print(\"Vous êtes majeur !\")\n",
    "else:\n",
    "    majeur = print(\"Vous êtes mineur !\")"
   ]
  },
  {
   "cell_type": "code",
   "execution_count": 11,
   "metadata": {},
   "outputs": [
    {
     "name": "stdout",
     "output_type": "stream",
     "text": [
      "Vous êtes majeur !\n"
     ]
    }
   ],
   "source": [
    "# Programme b)\n",
    "\n",
    "age=20\n",
    "majeur= print(\"Vous êtes majeur !\") if age >= 18 else print(\"Vous êtes mineur !\")\n",
    "\n",
    "# >>>> permet d'écrire le programme a) avec 2 lignes ;)\n",
    "# MAIS ne fonctionne qu'avec la structure \"if-else\""
   ]
  },
  {
   "cell_type": "markdown",
   "metadata": {},
   "source": [
    "## Les opérateurs logiques"
   ]
  },
  {
   "cell_type": "code",
   "execution_count": 12,
   "metadata": {},
   "outputs": [],
   "source": [
    "# Il existe 3 opérateurs logiques :\n",
    "\n",
    "# and (et) ; or (ou) ; not (pas) ----> Permet de regrouper des structures conditionnelles en une seule structure"
   ]
  },
  {
   "cell_type": "code",
   "execution_count": null,
   "metadata": {},
   "outputs": [
    {
     "name": "stdout",
     "output_type": "stream",
     "text": [
      "Echec\n"
     ]
    }
   ],
   "source": [
    "# Programme SANS op_logiques : \n",
    "\n",
    "utilisateur  = input(\"Nom d'utilisateur: \")\n",
    "# >>>> \"Sikoso\"\n",
    "mot_de_passe = input(\"Mot de passe: \")\n",
    "# >>>> \"Meaux_77\"\n",
    "if utilisateur == \"Sikoso\":\n",
    "    if mot_de_passe == \"Meaux_77\":\n",
    "        print(\"Bienvenue !!\")\n",
    "    else:\n",
    "        print(\"Echec\")\n",
    "else:\n",
    "    print(\"Echec\")\n",
    "\n",
    "# ----> Le programme sans op_logiques est assez conséquent"
   ]
  },
  {
   "cell_type": "code",
   "execution_count": null,
   "metadata": {},
   "outputs": [
    {
     "name": "stdout",
     "output_type": "stream",
     "text": [
      "Encore plus simple !!\n"
     ]
    }
   ],
   "source": [
    "# Programme AVEC op_logiques : \n",
    "\n",
    "utilisateur  = input(\"Nom d'utilisateur: \")\n",
    "# >>>> \"Sikoso\"\n",
    "mot_de_passe = input(\"Mot de passe: \")\n",
    "# >>>> \"Meaux_77\"\n",
    "if utilisateur == \"Sikoso\" and mot_de_passe == \"Meaux_77\":\n",
    "    print(\"Encore plus simple !!\")\n",
    "else:\n",
    "    print(\"Echec\")\n",
    "\n",
    "# ----> Le programme avec op_logiques fait bcp moins de lignes"
   ]
  },
  {
   "cell_type": "markdown",
   "metadata": {},
   "source": [
    "## Tableaux des opérations logiques"
   ]
  },
  {
   "cell_type": "markdown",
   "metadata": {},
   "source": [
    "![image](Tableau_1.png)"
   ]
  },
  {
   "cell_type": "markdown",
   "metadata": {},
   "source": [
    "![image](Tableau_2.png)"
   ]
  },
  {
   "cell_type": "code",
   "execution_count": null,
   "metadata": {},
   "outputs": [
    {
     "name": "stdout",
     "output_type": "stream",
     "text": [
      "Echec\n"
     ]
    }
   ],
   "source": [
    "# Programme AVEC \"not\" : \n",
    "\n",
    "utilisateur  = input(\"Nom d'utilisateur: \")\n",
    "# >>>> \"sikoso\"\n",
    "mot_de_passe = input(\"Mot de passe: \")\n",
    "# >>>> \"meaux77\"\n",
    "\n",
    "if not utilisateur == \"Sikoso\" and not mot_de_passe == \"Meaux_77\":\n",
    "    # Cela veut dire \"Si les conditions suivantes ne sont pas respectées:\"\n",
    "    print(\"Echec\")\n",
    "else:\n",
    "    print(\"Bienvenue !!\")"
   ]
  },
  {
   "cell_type": "markdown",
   "metadata": {},
   "source": [
    "&#169; <b>Zoléni Kokolo Zassi</b>\n",
    "\n",
    "17 mars 2025, mis à jour le 15 juillet 2025"
   ]
  }
 ],
 "metadata": {
  "kernelspec": {
   "display_name": "Python 3",
   "language": "python",
   "name": "python3"
  },
  "language_info": {
   "codemirror_mode": {
    "name": "ipython",
    "version": 3
   },
   "file_extension": ".py",
   "mimetype": "text/x-python",
   "name": "python",
   "nbconvert_exporter": "python",
   "pygments_lexer": "ipython3",
   "version": "3.12.10"
  }
 },
 "nbformat": 4,
 "nbformat_minor": 2
}
