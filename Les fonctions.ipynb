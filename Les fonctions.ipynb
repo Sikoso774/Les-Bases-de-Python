{
 "cells": [
  {
   "cell_type": "markdown",
   "id": "b8e8f075",
   "metadata": {},
   "source": [
    "# Les fonctions"
   ]
  },
  {
   "cell_type": "markdown",
   "id": "0ca213c4",
   "metadata": {},
   "source": [
    "## Définition"
   ]
  },
  {
   "cell_type": "markdown",
   "id": "b89f28fe",
   "metadata": {},
   "source": [
    "0Les fonctions sont une partie importante de notre code. Elles ont plusieurs utilités : \n",
    "- Alléger réutiliser du code \n",
    "- Segmenter notre code\n",
    "\n",
    "Il existe 2 types de fonctions : les <u>__fonctions sans valeur retour__</u> et les <u>__fonctions avec valeur retour__.</u>"
   ]
  },
  {
   "cell_type": "markdown",
   "id": "f5f468b0",
   "metadata": {},
   "source": [
    "<u>Exemples de fonctions sans valeur retour : </u>\n",
    "1. La fonction __print( )__\n",
    "   - Exécute l'action d'afficher du texte à la console.\n",
    "2. Ajouter utilisateur à la base de données : __ajouter_utlisateur( )__\n",
    "   - Exécute l'action d'ajouter un utilisateur\n",
    "\n",
    "__&rarr;__ Ces fonctions nous retournent rien (__None__) mais exécutent seulement\n",
    "\n",
    "<u>Exemples de fontions avec valeur retour :</u>\n",
    "1. La fonction __type()__ :\n",
    "   - On souhaite récupérer le type d'une variable, donc __type( )__ nous retournera quelque chose.\n",
    "2. Récupérer l'email d'un utlisateur :\n",
    "   - On souhaite récupérer l'adresse mail d'un utilisateur, donc cette fonction nous retournera l'adresse mail de l'utilisateur souhaitée."
   ]
  },
  {
   "cell_type": "markdown",
   "id": "7c385a10",
   "metadata": {},
   "source": [
    "#### <u>Exemple d'une fonction</u>"
   ]
  },
  {
   "cell_type": "code",
   "execution_count": 1,
   "id": "3182984a",
   "metadata": {},
   "outputs": [
    {
     "data": {
      "text/plain": [
       "44"
      ]
     },
     "execution_count": 1,
     "metadata": {},
     "output_type": "execute_result"
    }
   ],
   "source": [
    "# Exemple d'une fonction avec un retour de valeur\n",
    "\n",
    "def ma_fonction():\n",
    "    \"\"\"\n",
    "    Cette fonction ne fait rien de spécial.\n",
    "    Elle est juste là pour illustrer\n",
    "    le retour d'une valeur.\n",
    "    \"\"\"\n",
    "    return 44\n",
    "\n",
    "# Appel de la fonction\n",
    "ma_fonction()"
   ]
  },
  {
   "cell_type": "code",
   "execution_count": 2,
   "id": "8810592f",
   "metadata": {},
   "outputs": [
    {
     "name": "stdout",
     "output_type": "stream",
     "text": [
      "44\n"
     ]
    }
   ],
   "source": [
    "# On peut stocker le résultat dans une variable\n",
    "resultat = ma_fonction()\n",
    "print(resultat)"
   ]
  },
  {
   "cell_type": "code",
   "execution_count": 3,
   "id": "908872bf",
   "metadata": {},
   "outputs": [
    {
     "name": "stdout",
     "output_type": "stream",
     "text": [
      "44\n"
     ]
    }
   ],
   "source": [
    "# On peut aussi faire un appel direct\n",
    "print(ma_fonction())"
   ]
  },
  {
   "cell_type": "markdown",
   "id": "43a6f8ab",
   "metadata": {},
   "source": [
    "## Paramètres et arguments"
   ]
  },
  {
   "cell_type": "code",
   "execution_count": 4,
   "id": "c4d8b906",
   "metadata": {},
   "outputs": [
    {
     "name": "stdout",
     "output_type": "stream",
     "text": [
      "Bonjour, le monde !\n",
      "Le PSG est en finale de LDC !\n"
     ]
    },
    {
     "ename": "TypeError",
     "evalue": "affiche_un_message() missing 1 required positional argument: 'chaine'",
     "output_type": "error",
     "traceback": [
      "\u001b[1;31m---------------------------------------------------------------------------\u001b[0m",
      "\u001b[1;31mTypeError\u001b[0m                                 Traceback (most recent call last)",
      "Cell \u001b[1;32mIn[4], line 13\u001b[0m\n\u001b[0;32m     10\u001b[0m \u001b[38;5;66;03m# Appel de la fonction avec une autre chaîne de caractères\u001b[39;00m\n\u001b[0;32m     11\u001b[0m affiche_un_message(\u001b[38;5;124m\"\u001b[39m\u001b[38;5;124mLe PSG est en finale de LDC !\u001b[39m\u001b[38;5;124m\"\u001b[39m)           \u001b[38;5;66;03m# ----> On passe un autre argument\u001b[39;00m\n\u001b[1;32m---> 13\u001b[0m \u001b[43maffiche_un_message\u001b[49m\u001b[43m(\u001b[49m\u001b[43m)\u001b[49m                                          \u001b[38;5;66;03m# ----> On oublie de passer un argument\u001b[39;00m\n",
      "\u001b[1;31mTypeError\u001b[0m: affiche_un_message() missing 1 required positional argument: 'chaine'"
     ]
    }
   ],
   "source": [
    "def affiche_un_message(chaine):                               # ----> On met un paramètre\n",
    "    \"\"\"\n",
    "    Cette fonction affiche une chaîne de caractères.\n",
    "    \"\"\"\n",
    "    print(chaine)\n",
    "\n",
    "# Appel de la fonction avec une chaîne de caractères\n",
    "affiche_un_message(\"Bonjour, le monde !\")                     # ----> On passe un argument\n",
    "\n",
    "# Appel de la fonction avec une autre chaîne de caractères\n",
    "affiche_un_message(\"Le PSG est en finale de LDC !\")           # ----> On passe un autre argument\n",
    "\n",
    "affiche_un_message()                                          # ----> On oublie de passer un argument"
   ]
  },
  {
   "cell_type": "code",
   "execution_count": 5,
   "id": "1d2f9973",
   "metadata": {},
   "outputs": [
    {
     "name": "stdout",
     "output_type": "stream",
     "text": [
      "Va t-il qualifier l'équipe en CDM ?\n",
      "On verra.\n"
     ]
    }
   ],
   "source": [
    "def ma_phrase(chaine1, chaine2):\n",
    "    \"\"\"\n",
    "    Cette fonction affiche deux chaînes de caractères.\n",
    "    \"\"\"\n",
    "    print(chaine1)\n",
    "    print(chaine2)\n",
    "ma_phrase(\"Va t-il qualifier l'équipe en CDM ?\",\"On verra.\")"
   ]
  },
  {
   "cell_type": "code",
   "execution_count": 6,
   "id": "ce606f32",
   "metadata": {},
   "outputs": [
    {
     "name": "stdout",
     "output_type": "stream",
     "text": [
      "Carlo Ancelotti est sélectionneur du Brésil\n",
      "Va t-il qualifier l'équipe en CDM ?\n",
      "On verra.\n",
      "None\n"
     ]
    }
   ],
   "source": [
    "def affiche_un_message(chaine=\"Carlo Ancelotti est sélectionneur du Brésil\"):      # ----> On met un paramètre avec une valeur par défaut\n",
    "    \"\"\"\n",
    "    Cette fonction affiche une chaîne de caractères.\n",
    "    \"\"\"\n",
    "    print(chaine)\n",
    "\n",
    "# Appel de la fonction sans argument\n",
    "affiche_un_message()\n",
    "\n",
    "# Appel de la fonction avec un argument\n",
    "affiche_un_message(ma_phrase(\"Va t-il qualifier l'équipe en CDM ?\",\"On verra.\"))  # ----> On passe un argument\n",
    "\n",
    "# >>>> Rien nous empêche de faire un appel de fonction dans une autre fonction"
   ]
  },
  {
   "cell_type": "code",
   "execution_count": 7,
   "id": "1185904f",
   "metadata": {},
   "outputs": [
    {
     "name": "stdout",
     "output_type": "stream",
     "text": [
      "Résultat de la division sans inversion: 2.0\n",
      "Résultat de la division avec inversion: 0.5\n"
     ]
    }
   ],
   "source": [
    "def diviser(a, b):\n",
    "    \"\"\"\n",
    "    Cette fonction divise deux nombres.\n",
    "    \"\"\"\n",
    "    return a / b\n",
    "# Appel de la fonction diviser\n",
    "resultat_1 = diviser(10, 5)         # ----> Appel de la fonction avec des arguments\n",
    "resultat_2 = diviser(b=10, a=5)     # ----> On passe les arguments dans le désordre\n",
    "\n",
    "print(\"Résultat de la division sans inversion: {}\".format(resultat_1))  # ----> On affiche le résultat\n",
    "print(\"Résultat de la division avec inversion: {}\".format(resultat_2))  # ----> On affiche le résultat"
   ]
  },
  {
   "cell_type": "markdown",
   "id": "3c1167ce",
   "metadata": {},
   "source": [
    "### <u>Résumé</u>\n",
    "- On peut définir un ou plusieurs paramètres dans une fonction\n",
    "- Ces paramètres deviennent des varaiables qu'on peut utiliser à l'intérieur de la fonction\n",
    "- On peut définir des valeurs par défaut pour les paramètres\n",
    "- On peut spécifier explicitement à quel paramètre on envoie une valeur lors de l'appel de la fonction"
   ]
  },
  {
   "cell_type": "markdown",
   "id": "364e1f4f",
   "metadata": {},
   "source": [
    "## Définir les fonctions au bon endroit"
   ]
  },
  {
   "cell_type": "markdown",
   "id": "30703f08",
   "metadata": {},
   "source": [
    "Il est important de définir les fonctions au bon endroit car python lira le script ligne par ligne et si la fonction est appelée avant d'être définie, Python nous affichera une erreur."
   ]
  },
  {
   "cell_type": "code",
   "execution_count": 8,
   "id": "d0b6ad59",
   "metadata": {},
   "outputs": [
    {
     "ename": "NameError",
     "evalue": "name 'test' is not defined",
     "output_type": "error",
     "traceback": [
      "\u001b[1;31m---------------------------------------------------------------------------\u001b[0m",
      "\u001b[1;31mNameError\u001b[0m                                 Traceback (most recent call last)",
      "Cell \u001b[1;32mIn[8], line 1\u001b[0m\n\u001b[1;32m----> 1\u001b[0m \u001b[43mtest\u001b[49m()\n\u001b[0;32m      3\u001b[0m \u001b[38;5;28;01mdef\u001b[39;00m\u001b[38;5;250m \u001b[39m\u001b[38;5;21mtest\u001b[39m():\n\u001b[0;32m      4\u001b[0m     \u001b[38;5;28mprint\u001b[39m(\u001b[38;5;124m\"\u001b[39m\u001b[38;5;124mGreat Teacher Onizuka !\u001b[39m\u001b[38;5;124m\"\u001b[39m)\n",
      "\u001b[1;31mNameError\u001b[0m: name 'test' is not defined"
     ]
    }
   ],
   "source": [
    "# Définition de test() au mauvais endroit\n",
    "# On l'appelle avant de la définir\n",
    "\n",
    "test()\n",
    "\n",
    "def test():\n",
    "    print(\"Great Teacher Onizuka !\")"
   ]
  },
  {
   "cell_type": "code",
   "execution_count": 10,
   "id": "0127d09c",
   "metadata": {},
   "outputs": [
    {
     "name": "stdout",
     "output_type": "stream",
     "text": [
      "Great Teacher Onizuka !\n"
     ]
    }
   ],
   "source": [
    "# Appel de la fonction test au bon endroit\n",
    "def test():\n",
    "    print(\"Great Teacher Onizuka !\")\n",
    "test()"
   ]
  },
  {
   "cell_type": "code",
   "execution_count": null,
   "id": "14cbbf64",
   "metadata": {},
   "outputs": [
    {
     "name": "stdout",
     "output_type": "stream",
     "text": [
      "Je te conseille de lire le manga 'Dragon Ball' !\n"
     ]
    }
   ],
   "source": [
    "def test():\n",
    "    suggestion_manga()  # ----> On l'appelle avant de la définir\n",
    "\n",
    "# -------------------- DEFINTION DE LA FONCTION -----------------------------\n",
    "\n",
    "def suggestion_manga():\n",
    "    \"\"\"\n",
    "    Cette fonction affiche une suggestion de manga.\n",
    "    \"\"\"\n",
    "    print(\"Je te conseille de lire le manga 'Dragon Ball' !\")\n",
    "\n",
    "test()"
   ]
  },
  {
   "cell_type": "markdown",
   "id": "95162610",
   "metadata": {},
   "source": [
    "Et oui ! Lorsque l'on définit une fonction, Python la garde dans sa mémoire. C'est pour cela que même si j'ai appelé la fonction suggestion_manga() avant de la définir, du moment que qu'elle est définie plus tard, cela fonctionnera."
   ]
  },
  {
   "cell_type": "markdown",
   "id": "53d5a23d",
   "metadata": {},
   "source": [
    "## Espace global/local"
   ]
  },
  {
   "cell_type": "code",
   "execution_count": null,
   "id": "63405f1e",
   "metadata": {},
   "outputs": [
    {
     "name": "stdout",
     "output_type": "stream",
     "text": [
      "10\n",
      "5\n"
     ]
    }
   ],
   "source": [
    "def test_2():\n",
    "    a = 10\n",
    "    print(a)  # ----> On affiche la valeur locale de a\n",
    "\n",
    "a = 5\n",
    "\n",
    "test_2()\n",
    "print(a)  # ----> On affiche la valeur globale de a\n",
    "\n",
    "# Pourquoi a n'a pas été modifié (5 ----> 10) ?\n",
    "# La variable a est définie dans la portée locale de la fonction\n",
    "# La variable a est définie dans la portée globale du programme\n",
    "# La portée locale de la fonction est différente de la portée globale du programme"
   ]
  },
  {
   "cell_type": "markdown",
   "id": "e2dc94bc",
   "metadata": {},
   "source": [
    "<b><u>Pourquoi la valeur de a n'a pas été modifié ?</u></b>  (5 ----> 10) ? <br>\n",
    "\n",
    "- La variable a est définie dans la portée locale de la fonction\n",
    "- La variable a est définie dans la portée globale du programme\n",
    "- La portée locale de la fonction est différente de la portée globale du programme"
   ]
  },
  {
   "cell_type": "code",
   "execution_count": 15,
   "id": "6db50742",
   "metadata": {},
   "outputs": [
    {
     "name": "stdout",
     "output_type": "stream",
     "text": [
      "5\n"
     ]
    },
    {
     "ename": "NameError",
     "evalue": "name 'b' is not defined",
     "output_type": "error",
     "traceback": [
      "\u001b[1;31m---------------------------------------------------------------------------\u001b[0m",
      "\u001b[1;31mNameError\u001b[0m                                 Traceback (most recent call last)",
      "Cell \u001b[1;32mIn[15], line 7\u001b[0m\n\u001b[0;32m      5\u001b[0m test_3()\n\u001b[0;32m      6\u001b[0m \u001b[38;5;28mprint\u001b[39m(a)\n\u001b[1;32m----> 7\u001b[0m \u001b[38;5;28mprint\u001b[39m(\u001b[43mb\u001b[49m)  \u001b[38;5;66;03m# ----> On affiche la valeur de b\u001b[39;00m\n\u001b[0;32m      8\u001b[0m \u001b[38;5;66;03m# La variable b n'est pas définie dans la portée globale du programme\u001b[39;00m\n",
      "\u001b[1;31mNameError\u001b[0m: name 'b' is not defined"
     ]
    }
   ],
   "source": [
    "def test_3():\n",
    "    b = 10\n",
    "\n",
    "a = 5\n",
    "test_3()\n",
    "print(a)\n",
    "print(b)  # ----> On veut afficher la valeur de b"
   ]
  },
  {
   "cell_type": "markdown",
   "id": "ce8a06af",
   "metadata": {},
   "source": [
    "<b><u>Pourquoi b n'est pas défini ?</u></b>\n",
    "\n",
    "- La variable b n'est pas définie dans la portée globale du programme\n",
    "- La variable b est définie dans la portée locale de la fonction\n",
    "- La portée locale de la fonction est différente de la portée globale du programme"
   ]
  },
  {
   "cell_type": "code",
   "execution_count": 1,
   "id": "7f3ee29b",
   "metadata": {},
   "outputs": [
    {
     "name": "stdout",
     "output_type": "stream",
     "text": [
      "5\n"
     ]
    }
   ],
   "source": [
    "b = 5\n",
    "def exemple():\n",
    "    print(b)  # ----> On affiche la valeur de b\n",
    "\n",
    "exemple()     # ----> Appel de la fonction"
   ]
  },
  {
   "cell_type": "markdown",
   "id": "a7a76ef9",
   "metadata": {},
   "source": [
    "<b><u>Pourquoi la fonction exemple( ) a affiché 5 ?</u></b>\n",
    "- La variable b est définie dans l'espace global du programme\n",
    "- Et donc elle est accessible dans la fonction exemple( )\n",
    "- La portée locale de la fonction exemple( ) est différente de la portée globale du programme."
   ]
  },
  {
   "cell_type": "code",
   "execution_count": null,
   "id": "29ac325a",
   "metadata": {},
   "outputs": [],
   "source": [
    "def fonction():\n",
    "    a = 10     # ----> Variable locale\n",
    "\n",
    "a = 5          # ----> Variable globale\n",
    "\n",
    "# Ces deux variables ont beau avoir le même nom mais elles sont différentes"
   ]
  },
  {
   "cell_type": "markdown",
   "id": "ffdf6e75",
   "metadata": {},
   "source": [
    "### <b><u>Résumé</u></b>\n",
    "- Les variables définies à l'intérieur d'une fonction ne sont pas disponibles en dehors de la fonction\n",
    "- On peut accéder à une variable globale à l'intérieur d'une fonction\n",
    "- On a toujours un espace global mais on peut créer plusieurs espaces locaux"
   ]
  },
  {
   "cell_type": "markdown",
   "id": "7f73ec79",
   "metadata": {},
   "source": [
    "# Autres"
   ]
  },
  {
   "cell_type": "markdown",
   "id": "ca7bda42",
   "metadata": {},
   "source": []
  }
 ],
 "metadata": {
  "kernelspec": {
   "display_name": "Python 3",
   "language": "python",
   "name": "python3"
  },
  "language_info": {
   "codemirror_mode": {
    "name": "ipython",
    "version": 3
   },
   "file_extension": ".py",
   "mimetype": "text/x-python",
   "name": "python",
   "nbconvert_exporter": "python",
   "pygments_lexer": "ipython3",
   "version": "3.12.10"
  }
 },
 "nbformat": 4,
 "nbformat_minor": 5
}
