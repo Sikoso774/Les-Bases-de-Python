{
 "cells": [
  {
   "cell_type": "markdown",
   "metadata": {},
   "source": [
    "# Les Listes"
   ]
  },
  {
   "cell_type": "code",
   "execution_count": 1,
   "metadata": {},
   "outputs": [
    {
     "name": "stdout",
     "output_type": "stream",
     "text": [
      "[]\n",
      "[1, 'Python', True, 44, 5.8]\n"
     ]
    }
   ],
   "source": [
    "# Une liste est définie avec les crochets. Elles peuvent contenir ou non des valeurs.\n",
    "\n",
    "\n",
    "liste_0 = []                       # ---->  Cette liste ne contient aucune valeur\n",
    "\n",
    "liste_1 = [1,\"Python\",True,44,5.8] # ---->  Cette contient des valeurs séparées par des virgules\n",
    "print(liste_0)\n",
    "print(liste_1)"
   ]
  },
  {
   "cell_type": "markdown",
   "metadata": {},
   "source": [
    "## Ajouter les éléments d'une liste"
   ]
  },
  {
   "cell_type": "code",
   "execution_count": 2,
   "metadata": {},
   "outputs": [
    {
     "name": "stdout",
     "output_type": "stream",
     "text": [
      "['premier']\n"
     ]
    }
   ],
   "source": [
    "# La méthode append() :\n",
    "liste_0.append(\"premier\") # ----> permet de rajouter UNE valeur dans la liste\n",
    "print(liste_0)"
   ]
  },
  {
   "cell_type": "code",
   "execution_count": 3,
   "metadata": {},
   "outputs": [
    {
     "name": "stdout",
     "output_type": "stream",
     "text": [
      "['premier', 12, 6, 67, 'Markus', 'Dembélé', 6.8]\n"
     ]
    }
   ],
   "source": [
    "# La méthode extend() :\n",
    "liste_0.extend([12,6,67,\"Markus\", \"Dembélé\", 6.8])\n",
    "print(liste_0)\n",
    "\n",
    "# liste_0.extend(12,6) ----> ECHEC car extend() ne prend qu'un argument"
   ]
  },
  {
   "cell_type": "markdown",
   "metadata": {},
   "source": [
    "## Enlever les éléments d'une liste"
   ]
  },
  {
   "cell_type": "code",
   "execution_count": 4,
   "metadata": {},
   "outputs": [
    {
     "name": "stdout",
     "output_type": "stream",
     "text": [
      "[12, 6, 67, 'Markus', 'Dembélé', 6.8]\n",
      "[1, 'Python', True, 44]\n"
     ]
    }
   ],
   "source": [
    "liste_1.remove(5.8)\n",
    "liste_0.remove(\"premier\")\n",
    "\n",
    "print(liste_0)\n",
    "print(liste_1)"
   ]
  },
  {
   "cell_type": "markdown",
   "metadata": {},
   "source": [
    "## Récupérer des éléments d'une liste"
   ]
  },
  {
   "cell_type": "markdown",
   "metadata": {},
   "source": [
    "### Les indices"
   ]
  },
  {
   "cell_type": "code",
   "execution_count": 5,
   "metadata": {},
   "outputs": [
    {
     "name": "stdout",
     "output_type": "stream",
     "text": [
      "12\n",
      "44\n"
     ]
    }
   ],
   "source": [
    "# Les indices\n",
    "\n",
    "A = liste_0[0]  # ----> A prend le premier élément de liste_0\n",
    "print(A)\n",
    "# >>>> Il affichera 12\n",
    "\n",
    "B = liste_1[-1] # ----> B prend le dernier élément de liste_1\n",
    "print(B)\n",
    "# >>>> Il affichera 44"
   ]
  },
  {
   "cell_type": "markdown",
   "metadata": {},
   "source": [
    "### Les slices"
   ]
  },
  {
   "cell_type": "code",
   "execution_count": 6,
   "metadata": {},
   "outputs": [
    {
     "name": "stdout",
     "output_type": "stream",
     "text": [
      "[12, 6, 67, 'Markus', 'Dembélé']\n"
     ]
    }
   ],
   "source": [
    "liste_2 = liste_0[0:-1] # ----> Le [:-1] est EXCLUSIF \n",
    "print(liste_2)"
   ]
  },
  {
   "cell_type": "code",
   "execution_count": 7,
   "metadata": {},
   "outputs": [
    {
     "name": "stdout",
     "output_type": "stream",
     "text": [
      "['Dembélé', 'Barcola', 'Doué', 'Hakimi', 'Vitinha', 'Kvara', 'WZE', 'Ruiz', 'Lee', 'Nuno Mendes', 'Mayulu', 'Donnarumma']\n"
     ]
    }
   ],
   "source": [
    "PSG = liste_2[-1:]\n",
    "PSG.extend([\"Barcola\", \"Doué\", \"Hakimi\", \n",
    "            \"Vitinha\", \"Kvara\", \"WZE\",\n",
    "            \"Ruiz\", \"Lee\", \"Nuno Mendes\", \n",
    "            \"Mayulu\",\"Donnarumma\"])\n",
    "print(PSG)"
   ]
  },
  {
   "cell_type": "code",
   "execution_count": 8,
   "metadata": {},
   "outputs": [
    {
     "name": "stdout",
     "output_type": "stream",
     "text": [
      "['Dembélé', 'Doué', 'Vitinha', 'WZE', 'Lee', 'Mayulu']\n",
      "['Barcola', 'Hakimi', 'Kvara', 'Ruiz', 'Nuno Mendes', 'Donnarumma']\n"
     ]
    }
   ],
   "source": [
    "team_1 = PSG[::2]  # ----> On prend les éléments de PSG à partir du premier jusqu'au dernier élément avec un pas de 2\n",
    "team_2 = PSG[1::2] # ----> On prend les éléments de PSG à partir du deuxième jusqu'au dernier élément avec un pas de 2\n",
    "\n",
    "print(team_1)\n",
    "print(team_2)"
   ]
  },
  {
   "cell_type": "code",
   "execution_count": 9,
   "metadata": {},
   "outputs": [
    {
     "name": "stdout",
     "output_type": "stream",
     "text": [
      "['Donnarumma', 'Mayulu', 'Nuno Mendes', 'Lee', 'Ruiz', 'WZE', 'Kvara', 'Vitinha', 'Hakimi', 'Doué', 'Barcola', 'Dembélé']\n"
     ]
    }
   ],
   "source": [
    "# Inverser les éléments d'une liste\n",
    "\n",
    "PSG_Inv = PSG[::-1]  # ----> On prend les éléments de PSG à partir du premier jusqu'au dernier élément avec un pas de -1\n",
    "print(PSG_Inv)"
   ]
  },
  {
   "cell_type": "markdown",
   "metadata": {},
   "source": [
    "## Autres méthodes des listes"
   ]
  },
  {
   "cell_type": "markdown",
   "metadata": {},
   "source": [
    " ### Savoir les index des éléments"
   ]
  },
  {
   "cell_type": "code",
   "execution_count": 10,
   "metadata": {},
   "outputs": [
    {
     "name": "stdout",
     "output_type": "stream",
     "text": [
      "3\n"
     ]
    }
   ],
   "source": [
    "# La méthode index():\n",
    "\n",
    "index_liste_0= liste_0.index(\"Markus\") # ----> permet de connaître l'index de l'élément de la liste\n",
    "print(index_liste_0)"
   ]
  },
  {
   "cell_type": "markdown",
   "metadata": {},
   "source": [
    "### Savoir le nombre d'occurences dans une liste"
   ]
  },
  {
   "cell_type": "code",
   "execution_count": 11,
   "metadata": {},
   "outputs": [
    {
     "name": "stdout",
     "output_type": "stream",
     "text": [
      "2\n"
     ]
    }
   ],
   "source": [
    "# La méthode count():\n",
    "\n",
    "liste_0.append(67) # ----> On ajoute le nb 67 pour avoir 2 mêmes éléments\n",
    "count_1 = liste_0.count(67) # ----> permet de connaître l'occurence d'un élément d'une liste\n",
    "\n",
    "print(count_1)\n",
    "# >>>> Il affichera le nombre d'occurences dans la liste"
   ]
  },
  {
   "cell_type": "markdown",
   "metadata": {},
   "source": [
    "### Trier une liste"
   ]
  },
  {
   "cell_type": "code",
   "execution_count": 12,
   "metadata": {},
   "outputs": [
    {
     "ename": "TypeError",
     "evalue": "'<' not supported between instances of 'str' and 'int'",
     "output_type": "error",
     "traceback": [
      "\u001b[31m---------------------------------------------------------------------------\u001b[39m",
      "\u001b[31mTypeError\u001b[39m                                 Traceback (most recent call last)",
      "\u001b[36mCell\u001b[39m\u001b[36m \u001b[39m\u001b[32mIn[12]\u001b[39m\u001b[32m, line 1\u001b[39m\n\u001b[32m----> \u001b[39m\u001b[32m1\u001b[39m \u001b[43mliste_2\u001b[49m\u001b[43m.\u001b[49m\u001b[43msort\u001b[49m\u001b[43m(\u001b[49m\u001b[43m)\u001b[49m\n",
      "\u001b[31mTypeError\u001b[39m: '<' not supported between instances of 'str' and 'int'"
     ]
    }
   ],
   "source": [
    "liste_2.sort()"
   ]
  },
  {
   "cell_type": "code",
   "execution_count": null,
   "metadata": {},
   "outputs": [],
   "source": [
    "# >>>> sort() fonctionne avec des listes contenant UNIQUEMENT des éléments de même type"
   ]
  },
  {
   "cell_type": "code",
   "execution_count": 13,
   "metadata": {},
   "outputs": [
    {
     "name": "stdout",
     "output_type": "stream",
     "text": [
      "None\n"
     ]
    }
   ],
   "source": [
    "# La méthode sort() ne renvoie rien.\n",
    "\n",
    "liste_3 = [True, False]\n",
    "print(liste_3.sort())"
   ]
  },
  {
   "cell_type": "code",
   "execution_count": 14,
   "metadata": {},
   "outputs": [
    {
     "data": {
      "text/plain": [
       "[False, True]"
      ]
     },
     "execution_count": 14,
     "metadata": {},
     "output_type": "execute_result"
    }
   ],
   "source": [
    "liste_3.sort() # ----> Elle range les éléments de la liste automatiquement selon l'ordre alphabétique en <str> ou \n",
    "               #       selon le nombre avec les <int>\n",
    "liste_3 "
   ]
  },
  {
   "cell_type": "code",
   "execution_count": 15,
   "metadata": {},
   "outputs": [
    {
     "data": {
      "text/plain": [
       "['Dembélé',\n",
       " 'Barcola',\n",
       " 'Doué',\n",
       " 'Hakimi',\n",
       " 'Vitinha',\n",
       " 'Kvara',\n",
       " 'WZE',\n",
       " 'Ruiz',\n",
       " 'Lee',\n",
       " 'Nuno Mendes',\n",
       " 'Mayulu',\n",
       " 'Donnarumma']"
      ]
     },
     "execution_count": 15,
     "metadata": {},
     "output_type": "execute_result"
    }
   ],
   "source": [
    "# Rangons la liste PSG par ordre alphabétique :\n",
    "PSG"
   ]
  },
  {
   "cell_type": "code",
   "execution_count": 16,
   "metadata": {},
   "outputs": [
    {
     "name": "stdout",
     "output_type": "stream",
     "text": [
      "['Barcola', 'Dembélé', 'Donnarumma', 'Doué', 'Hakimi', 'Kvara', 'Lee', 'Mayulu', 'Nuno Mendes', 'Ruiz', 'Vitinha', 'WZE']\n"
     ]
    }
   ],
   "source": [
    "# Méthode 1 : la fonction sorted():\n",
    "\n",
    "PSG_trie = sorted(PSG)  # ----> la fonction sorted() inverse l'ordre de la liste\n",
    "print(PSG_trie)"
   ]
  },
  {
   "cell_type": "code",
   "execution_count": 17,
   "metadata": {},
   "outputs": [
    {
     "data": {
      "text/plain": [
       "['Barcola',\n",
       " 'Dembélé',\n",
       " 'Donnarumma',\n",
       " 'Doué',\n",
       " 'Hakimi',\n",
       " 'Kvara',\n",
       " 'Lee',\n",
       " 'Mayulu',\n",
       " 'Nuno Mendes',\n",
       " 'Ruiz',\n",
       " 'Vitinha',\n",
       " 'WZE']"
      ]
     },
     "execution_count": 17,
     "metadata": {},
     "output_type": "execute_result"
    }
   ],
   "source": [
    "# Méthode 2 : la méthode .sort():\n",
    "\n",
    "PSG.sort()\n",
    "PSG # ----> Avec sort(), pas besoin de récupérer la liste dans une variable."
   ]
  },
  {
   "cell_type": "code",
   "execution_count": 18,
   "metadata": {},
   "outputs": [
    {
     "name": "stdout",
     "output_type": "stream",
     "text": [
      "None\n"
     ]
    }
   ],
   "source": [
    "# ATTENTION !!!!\n",
    "liste_3 = liste_3.sort() # ----> Comme la méthode sort() renvoie None, la liste sera écrasée\n",
    "print(liste_3)"
   ]
  },
  {
   "cell_type": "code",
   "execution_count": 19,
   "metadata": {},
   "outputs": [
    {
     "data": {
      "text/plain": [
       "[False, True]"
      ]
     },
     "execution_count": 19,
     "metadata": {},
     "output_type": "execute_result"
    }
   ],
   "source": [
    "# La bonne méthode !\n",
    "liste_3 = [True, False]\n",
    "liste_3 = sorted(liste_3)\n",
    "liste_3"
   ]
  },
  {
   "cell_type": "markdown",
   "metadata": {},
   "source": [
    "### Inverser une liste avec une méthode"
   ]
  },
  {
   "cell_type": "code",
   "execution_count": 20,
   "metadata": {},
   "outputs": [
    {
     "name": "stdout",
     "output_type": "stream",
     "text": [
      "['Donnarumma', 'Mayulu', 'Nuno Mendes', 'Lee', 'Ruiz', 'WZE', 'Kvara', 'Vitinha', 'Hakimi', 'Doué', 'Barcola', 'Dembélé']\n",
      "['Dembélé', 'Barcola', 'Doué', 'Hakimi', 'Vitinha', 'Kvara', 'WZE', 'Ruiz', 'Lee', 'Nuno Mendes', 'Mayulu', 'Donnarumma']\n"
     ]
    }
   ],
   "source": [
    "# La méthode reverse():\n",
    "print(PSG_Inv)\n",
    "PSG_Inv.reverse() # ----> Inverse l'ordre de la liste\n",
    "print(PSG_Inv)"
   ]
  },
  {
   "cell_type": "markdown",
   "metadata": {},
   "source": [
    "### Autres façons de supprimer les éléments d'une liste"
   ]
  },
  {
   "cell_type": "code",
   "execution_count": 21,
   "metadata": {},
   "outputs": [
    {
     "name": "stdout",
     "output_type": "stream",
     "text": [
      "Ruiz\n"
     ]
    }
   ],
   "source": [
    "# La méthode pop():\n",
    "\n",
    "indesirable = PSG_Inv.pop(-5) # ----> permet de supprmier un élément grâce à son index\n",
    "print(indesirable)"
   ]
  },
  {
   "cell_type": "code",
   "execution_count": 22,
   "metadata": {},
   "outputs": [
    {
     "name": "stdout",
     "output_type": "stream",
     "text": [
      "['Dembélé', 'Barcola', 'Doué', 'Hakimi', 'Vitinha', 'Kvara', 'WZE', 'Lee', 'Nuno Mendes', 'Mayulu', 'Donnarumma']\n"
     ]
    }
   ],
   "source": [
    "print(PSG_Inv)"
   ]
  },
  {
   "cell_type": "code",
   "execution_count": 23,
   "metadata": {},
   "outputs": [
    {
     "name": "stdout",
     "output_type": "stream",
     "text": [
      "[]\n"
     ]
    }
   ],
   "source": [
    "# La méthode clear():\n",
    "\n",
    "PSG_Inv.clear() # ----> Vider la liste PSG_Inv\n",
    "print(PSG_Inv)  # ----> La liste sera vide"
   ]
  },
  {
   "cell_type": "markdown",
   "metadata": {},
   "source": [
    "### Joindre les éléments d'une liste (uniquement les chaînes de caractères)"
   ]
  },
  {
   "cell_type": "code",
   "execution_count": 24,
   "metadata": {},
   "outputs": [
    {
     "name": "stdout",
     "output_type": "stream",
     "text": [
      "La Ligue des champions le seul trophée manquant n'empêchera pas de dire ceci: \n",
      "Le Paris Saint Germain est le plus grand club de France.\n"
     ]
    }
   ],
   "source": [
    "# La méthode join():\n",
    "\n",
    "PSG_trie.clear()\n",
    "\n",
    "PSG_trie = [\"La\",\"Ligue\",\"des\",\"champions\",\"le\",\"seul\",\"trophée\",\"manquant\",\n",
    "            \"n'empêchera\",\"pas\",\"de\",\"dire\",\"ceci:\"]\n",
    "PSG_Inv  = [\"\\nLe\",\"Paris\",\"Saint\",\"Germain\", \"est\",\"le\",\"plus\",\"grand\",\"club\",\"de\",\"France.\"]\n",
    "\n",
    "phrase_1 = \" \".join(PSG_trie)\n",
    "phrase_2 = \" \".join(PSG_Inv)\n",
    "\n",
    "print(phrase_1,phrase_2)"
   ]
  },
  {
   "cell_type": "markdown",
   "metadata": {},
   "source": [
    "### Transformer une chaîne de caractères en éléments d'une liste"
   ]
  },
  {
   "cell_type": "code",
   "execution_count": 25,
   "metadata": {},
   "outputs": [
    {
     "name": "stdout",
     "output_type": "stream",
     "text": [
      "Zoléni, Johéda, Joadanne, Joseph, Daphné\n",
      "Liste : ['Zoléni', 'Johéda', 'Joadanne', 'Joseph', 'Daphné']\n"
     ]
    }
   ],
   "source": [
    "# La méthode split():\n",
    "\n",
    "Famille = \"Zoléni, Johéda, Joadanne, Joseph, Daphné\"\n",
    "Famille_liste = Famille.split(\", \") #----> Séparation des éléments de la <str> en liste en enlevant \", \"\n",
    "print(Famille)\n",
    "print(f\"Liste : {Famille_liste}\")"
   ]
  },
  {
   "cell_type": "markdown",
   "metadata": {},
   "source": [
    "### Les opérateurs d'appartenance "
   ]
  },
  {
   "cell_type": "code",
   "execution_count": 26,
   "metadata": {},
   "outputs": [
    {
     "data": {
      "text/plain": [
       "True"
      ]
     },
     "execution_count": 26,
     "metadata": {},
     "output_type": "execute_result"
    }
   ],
   "source": [
    "# in / not in \n",
    "\n",
    "\"Zoléni\" in Famille_liste # ---->  \"Zoléni\" appartient à Famille_liste (it's True)\n",
    "# >>> True "
   ]
  },
  {
   "cell_type": "code",
   "execution_count": 27,
   "metadata": {},
   "outputs": [
    {
     "data": {
      "text/plain": [
       "False"
      ]
     },
     "execution_count": 27,
     "metadata": {},
     "output_type": "execute_result"
    }
   ],
   "source": [
    "\"Zoléni \" in Famille_liste # ----> \"Zoléni \" appartient à Famille_liste (it's False) \n",
    "# Un simple espace peut faire la différence\n",
    "# >>> False"
   ]
  },
  {
   "cell_type": "code",
   "execution_count": 28,
   "metadata": {},
   "outputs": [
    {
     "data": {
      "text/plain": [
       "True"
      ]
     },
     "execution_count": 28,
     "metadata": {},
     "output_type": "execute_result"
    }
   ],
   "source": [
    "\"Zoléni_\" not in Famille_liste #----> \"Zoléni_\" n'appartient pas à Famille_liste (it's True)\n",
    "# >>> True"
   ]
  },
  {
   "cell_type": "code",
   "execution_count": 29,
   "metadata": {},
   "outputs": [
    {
     "name": "stdout",
     "output_type": "stream",
     "text": [
      "Bienvenue Zoléni !\n"
     ]
    }
   ],
   "source": [
    "if \"Zoléni\" in Famille_liste :\n",
    "    print(\"Bienvenue Zoléni !\")"
   ]
  },
  {
   "cell_type": "code",
   "execution_count": 30,
   "metadata": {},
   "outputs": [
    {
     "data": {
      "text/plain": [
       "True"
      ]
     },
     "execution_count": 30,
     "metadata": {},
     "output_type": "execute_result"
    }
   ],
   "source": [
    "# Cela fonctionne aussi avec une chaîne de caractères:\n",
    "\n",
    "\"py\" in \"python\""
   ]
  },
  {
   "cell_type": "code",
   "execution_count": 31,
   "metadata": {},
   "outputs": [
    {
     "data": {
      "text/plain": [
       "True"
      ]
     },
     "execution_count": 31,
     "metadata": {},
     "output_type": "execute_result"
    }
   ],
   "source": [
    "\"obs\" in \"obscidian\""
   ]
  },
  {
   "cell_type": "markdown",
   "metadata": {},
   "source": [
    "# Les listes imbriquées"
   ]
  },
  {
   "cell_type": "code",
   "execution_count": 32,
   "metadata": {},
   "outputs": [
    {
     "data": {
      "text/plain": [
       "[['Barcola', 'Dembélé', 'Doué', 'Kvara'],\n",
       " ['Donnarumma', 'Safonov'],\n",
       " ['Hakimi', 'Nuno Mendes'],\n",
       " ['Lee', 'Mayulu', 'Ruiz', 'Vitinha', 'Joao Neves', 'WZE']]"
      ]
     },
     "execution_count": 32,
     "metadata": {},
     "output_type": "execute_result"
    }
   ],
   "source": [
    "PSG_trie.clear()\n",
    "PSG_trie.extend([[\"Barcola\",\"Dembélé\",\"Doué\",\"Kvara\"],\n",
    "                 ['Lee','Mayulu','Ruiz','Vitinha',\"Joao Neves\",'WZE'],\n",
    "                 [\"Donnarumma\", \"Safonov\"], \n",
    "                 [\"Hakimi\",'Nuno Mendes']])\n",
    "\n",
    "PSG_trie.sort() # ----> Rangée par ordre alphabétique par rapport au premier élément de chaque liste imbriquée\n",
    "\n",
    "PSG_trie # ----> Réorganisation de la liste PSG_trie en listes imbriquées par position sur le terrain\n",
    "# ----> 1ere liste : Les attaquants\n",
    "# ----> 2ème liste : Les gardiens\n",
    "# ----> 3ème liste : Les latéraux\n",
    "# ----> 4ème liste : Les milieux de terrain"
   ]
  },
  {
   "cell_type": "code",
   "execution_count": 33,
   "metadata": {},
   "outputs": [
    {
     "data": {
      "text/plain": [
       "'Doué'"
      ]
     },
     "execution_count": 33,
     "metadata": {},
     "output_type": "execute_result"
    }
   ],
   "source": [
    "# Je veux accéder à l'élément \"Doué\" :\n",
    "PSG_trie[0][2] # ----> On indique la première liste avec [0] puis le troisième élément de cette liste avec [2]."
   ]
  },
  {
   "cell_type": "markdown",
   "metadata": {},
   "source": [
    "## Différences entre une méthode et une fonction"
   ]
  },
  {
   "cell_type": "code",
   "execution_count": 34,
   "metadata": {},
   "outputs": [
    {
     "name": "stdout",
     "output_type": "stream",
     "text": [
      "['Zoléni', 'Johéda', 'Joadanne', 'Joseph', 'Daphné']\n"
     ]
    }
   ],
   "source": [
    "# Une méthode est une fonction qui appartient à un objet\n",
    "\n",
    "# On souhaite trier la liste Famille_liste selon l'ordre alphabétique :\n",
    "\n",
    "sorted(Famille_liste) \n",
    "# La fontion sorte() retourne la liste triée \n",
    "# La fonction sorted() n'agit pas directement sur la liste.\n",
    "\n",
    "print(Famille_liste)\n",
    "# >>> C'est pour cela que l'ordre de la liste reste inchangée."
   ]
  },
  {
   "cell_type": "code",
   "execution_count": 35,
   "metadata": {},
   "outputs": [
    {
     "name": "stdout",
     "output_type": "stream",
     "text": [
      "['Daphné', 'Joadanne', 'Johéda', 'Joseph', 'Zoléni']\n"
     ]
    }
   ],
   "source": [
    "# Il faut donc écraser l'ancienne liste en affectant ce que nous retourne la fonction sorted() :\n",
    "\n",
    "Famille_liste = sorted(Famille_liste)  # ----> Réaffectation effectuée\n",
    "print(Famille_liste)"
   ]
  },
  {
   "cell_type": "code",
   "execution_count": 36,
   "metadata": {},
   "outputs": [
    {
     "name": "stdout",
     "output_type": "stream",
     "text": [
      "['Zoléni', 'Joseph', 'Johéda', 'Joadanne', 'Daphné']\n",
      "['Daphné', 'Joadanne', 'Johéda', 'Joseph', 'Zoléni']\n"
     ]
    }
   ],
   "source": [
    "# La méthode reverse() est propre à une liste. \n",
    "# C'est pour cela qu'on peut l'utiliser à la liste Famille_liste.\n",
    "\n",
    "Famille_liste.reverse()\n",
    "print(Famille_liste)\n",
    "\n",
    "# Même chose pour la méthode sort() :\n",
    "Famille_liste.sort()\n",
    "print(Famille_liste)"
   ]
  },
  {
   "cell_type": "markdown",
   "metadata": {},
   "source": [
    "# Projet: Arsenal VS PSG"
   ]
  },
  {
   "cell_type": "code",
   "execution_count": 37,
   "metadata": {},
   "outputs": [],
   "source": [
    "# Essayons de deviner le onze titulaire contre Arsenal en demi-finale de LDC avec les listes imbriquées: \n",
    "\n",
    "PSG_squad = []\n",
    "PSG_squad.extend([[\"Donnarumma\", \"Arnau Tenas\", \"Safonov\"],                          # Les gardiens\n",
    "                  [\"Hakimi\", \"Kimpembe\", \"Marquinhos\", \"L.Hernandez\", \"Nuno Mendes\", \n",
    "                   \"Beraldo\", \"Pacho\"],                                              # Les défenseurs\n",
    "                  [\"Joao Neves\", \"Vitinha\", \"WZE\", \"Mayulu\", \"Lee Kang-In\", \"Ruiz\"], # Les milieux de terrain\n",
    "                  [\"Barcola\", \"Dembélé\", \"Kvara\", \"Mbaye\", \"Doué\", \"G.Ramos\"]])      # Les attaquants\n",
    "\n",
    "# Sélection des joueurs du onze de Luis Enrique\n",
    "\n",
    "PSG_gk = [PSG_squad[0][0]] \n",
    "# >>>  = [Donnarumma]\n",
    "\n",
    "PSG_defs = [PSG_squad[1][0], PSG_squad[1][-3], PSG_squad[1][-1], PSG_squad[1][2]] \n",
    "# >>>    =  ['Hakimi',\"Nuno Mendes\", \"Pacho\", \"Marquinhos\"]\n",
    "\n",
    "PSG_mds = [PSG_squad[2][0], PSG_squad[2][1], PSG_squad[2][-1]]\n",
    "# >>>   = [\"Joao Neves\", \"Vitinha\", \"Ruiz\"]\n",
    "\n",
    "PSG_atk = [PSG_squad[-1][1], PSG_squad[-1][-2], PSG_squad[-1][2]]\n",
    "# >>>   = [\"Dembélé\", \"Doué\", \"Kvara\"]\n",
    "\n",
    "onze_titulaire = [PSG_gk,PSG_defs,PSG_mds,PSG_atk]\n",
    "# >>>          = [[Donnarumma],['Hakimi',\"Nuno Mendes\", \"Pacho\", \"Marquinhos\"],\n",
    "#                [\"Joao Neves\", \"Vitinha\", \"Ruiz\"],\n",
    "#                [\"Dembélé\", \"Doué\", \"Kvara\"]]"
   ]
  },
  {
   "cell_type": "code",
   "execution_count": 38,
   "metadata": {},
   "outputs": [],
   "source": [
    "\n",
    "\n",
    "# Enregistrement du contenu dans un fichier txt\n",
    "\n",
    "def afficher_texte(file_contenu):\n",
    "    with open(f'{file_contenu}', mode= 'w', encoding='utf-8') as file_contenu:\n",
    "        file_contenu.write(f\"\\t\\tPrédictions du Onze titulaire contre Arsenal en 1/2 finale de LDC\\n\\n\"\n",
    "                         f\"Le squad du PSG pour le déplacement à Londres est composé de ces joueurs: \\n\\n\"\n",
    "                         f\"Gardiens: {\"; \".join(PSG_squad[0])}.\\n\"\n",
    "                         f\"Défenseurs: {\"; \".join(PSG_squad[1])}\\n\"\n",
    "                         f\"Milieux: {\"; \".join(PSG_squad[2])}\\n\"\n",
    "                         f\"Attaquants: {\"; \".join(PSG_squad[3])}\\n\")\n",
    "\n",
    "        file_contenu.write(f\"Je prédis le onze titulaire du Paris Saint Germain.\\n\"\n",
    "                           f\"Les joueurs sélectionnés pour le Onze du départ:\\n\\n\"\n",
    "                           f\"Gardien : {onze_titulaire[0][0]}\\n\"\n",
    "                           f\"Défenseurs: {\"; \".join(onze_titulaire[1])}\\n\"\n",
    "                           f\"Milieux: {\"; \".join(onze_titulaire[2])}\\n\"\n",
    "                           f\"Attaquants: {\"; \".join(onze_titulaire[3])}\\n\")\n"
   ]
  },
  {
   "cell_type": "code",
   "execution_count": 39,
   "metadata": {},
   "outputs": [
    {
     "name": "stdout",
     "output_type": "stream",
     "text": [
      "Voici mon Onze titulaire contre Arsenal en Ligue des champions : Allez sur Onze_titulaire.txt\n"
     ]
    }
   ],
   "source": [
    "# Enregistrement du fichier txt :\n",
    "\n",
    "def SaveToFile(file):\n",
    "    afficher_texte(\"Onze_titulaire.txt\")\n",
    "    with open(f\"{file}\",mode= 'a', encoding='utf-8') as file:\n",
    "        file.write(f\"Copyright : Zoléni KOKOLO ZASSI\\n\"\n",
    "                   f\"29 Avril 2025\")\n",
    "    print(\"Voici mon Onze titulaire contre Arsenal en Ligue des champions : Allez sur {txt}\".format(txt=\"Onze_titulaire.txt\"))\n",
    "\n",
    "SaveToFile(\"Onze_titulaire.txt\")\n"
   ]
  },
  {
   "cell_type": "markdown",
   "metadata": {},
   "source": [
    "# Objet muable et objet immuable"
   ]
  },
  {
   "cell_type": "markdown",
   "metadata": {},
   "source": [
    "Les objets muables sont des objets que l'on peut modifier comme les listes, les dictionnaires ou les sets. Les chaînes de caractères et les nombres sont immuables. On ne peut pas modifier une chaîne de caractères. C'est pour cela que lorqu'on utlise une méthode sur une liste, elle est directement modifiée. Alors que si on utlise une méthode sur une chaîne de carctères, elle ne retourne aucun résultat mais il faut l'affecter à une variable.\n",
    "\n"
   ]
  },
  {
   "cell_type": "markdown",
   "metadata": {},
   "source": [
    "## Exemple"
   ]
  },
  {
   "cell_type": "code",
   "execution_count": 40,
   "metadata": {},
   "outputs": [
    {
     "name": "stdout",
     "output_type": "stream",
     "text": [
      "['Daphné', 'Joadanne', 'Johéda', 'Joseph', 'Zoléni', 'Caroline']\n"
     ]
    }
   ],
   "source": [
    "Famille_liste.append(\"Caroline\")\n",
    "print(Famille_liste)\n"
   ]
  },
  {
   "cell_type": "code",
   "execution_count": 41,
   "metadata": {},
   "outputs": [
    {
     "name": "stdout",
     "output_type": "stream",
     "text": [
      "Kung Fu Panda\n"
     ]
    }
   ],
   "source": [
    "film = \"kung fu panda\".title()\n",
    "print(film)"
   ]
  },
  {
   "cell_type": "markdown",
   "metadata": {},
   "source": [
    "# Quelques fonctions supplémentaires"
   ]
  },
  {
   "cell_type": "code",
   "execution_count": 42,
   "metadata": {},
   "outputs": [
    {
     "name": "stdout",
     "output_type": "stream",
     "text": [
      "6\n",
      "6\n"
     ]
    }
   ],
   "source": [
    "# La fonction len():\n",
    "# ----> Compte le nombre d'éléments dans une liste\n",
    "\n",
    "print(len(Famille_liste)) # ----> 6\n",
    "print(len(\"Zoléni\")) # ----> 6"
   ]
  },
  {
   "cell_type": "code",
   "execution_count": 43,
   "metadata": {},
   "outputs": [
    {
     "name": "stdout",
     "output_type": "stream",
     "text": [
      "3\n",
      "c\n"
     ]
    }
   ],
   "source": [
    "# La fonction max():\n",
    "# ----> Renvoie le plus grand élément d'une liste\n",
    "print(max([1,2,3]))\n",
    "print(max([\"a\",\"b\",\"c\"]))"
   ]
  },
  {
   "cell_type": "code",
   "execution_count": 44,
   "metadata": {},
   "outputs": [
    {
     "name": "stdout",
     "output_type": "stream",
     "text": [
      "1\n",
      "a\n"
     ]
    }
   ],
   "source": [
    "# La fonction min():\n",
    "# ----> Renvoie le plus petit élément d'une liste  \n",
    "print(min([1,2,3]))\n",
    "print(min([\"a\",\"b\",\"c\"]))"
   ]
  },
  {
   "cell_type": "code",
   "execution_count": 45,
   "metadata": {},
   "outputs": [
    {
     "name": "stdout",
     "output_type": "stream",
     "text": [
      "6\n",
      "15\n"
     ]
    }
   ],
   "source": [
    "# la fonction sum():\n",
    "# ----> Renvoie la somme des éléments d'une liste\n",
    "print(sum([1,2,3])) # ----> 6\n",
    "print(sum([1,2,3,4,5])) # ----> 15"
   ]
  },
  {
   "cell_type": "code",
   "execution_count": 46,
   "metadata": {},
   "outputs": [
    {
     "name": "stdout",
     "output_type": "stream",
     "text": [
      "[0, 1, 2, 3, 4, 5, 6, 7, 8, 9]\n"
     ]
    }
   ],
   "source": [
    "# La fonction range():\n",
    "# ----> Renvoie une liste d'entiers de 0 à n-1\n",
    "print(list(range(10))) # ----> [0,1,2,3,4,5,6,7,8,9]"
   ]
  },
  {
   "cell_type": "markdown",
   "metadata": {},
   "source": [
    "# Projet 2 : Le vérificateur de mot de passe"
   ]
  },
  {
   "cell_type": "code",
   "execution_count": 47,
   "metadata": {},
   "outputs": [
    {
     "name": "stdout",
     "output_type": "stream",
     "text": [
      "Inscription terminée.\n"
     ]
    }
   ],
   "source": [
    "mdp = input(\"Entrez un mot de passe (min 8 carctères): \")\n",
    "mdp_trop_court  = \"votre mot de passe est trop court.\"\n",
    "if len(mdp) == 0:\n",
    "    print(mdp_trop_court.upper())\n",
    "elif len(mdp) < 8:\n",
    "    print(mdp_trop_court.capitalize())\n",
    "elif mdp.isdigit():\n",
    "    print(\"Votre mot de passe ne contient que des nombres.\")\n",
    "else:\n",
    "    print(\"Inscription terminée.\")"
   ]
  },
  {
   "cell_type": "markdown",
   "metadata": {},
   "source": [
    "&#169; <b>Zoléni KOKOLO ZASSI</b>\n",
    "\n",
    "28 mars 2025, mis à jour le 15 juillet 2025"
   ]
  }
 ],
 "metadata": {
  "kernelspec": {
   "display_name": ".venv",
   "language": "python",
   "name": "python3"
  },
  "language_info": {
   "codemirror_mode": {
    "name": "ipython",
    "version": 3
   },
   "file_extension": ".py",
   "mimetype": "text/x-python",
   "name": "python",
   "nbconvert_exporter": "python",
   "pygments_lexer": "ipython3",
   "version": "3.12.5"
  }
 },
 "nbformat": 4,
 "nbformat_minor": 2
}
