{
 "cells": [
  {
   "cell_type": "markdown",
   "id": "cf3be859",
   "metadata": {},
   "source": [
    "# La boucle for"
   ]
  },
  {
   "cell_type": "markdown",
   "id": "e461547b",
   "metadata": {},
   "source": [
    "La boucle for permet de parcourir des structures de données ou d'itérer sur un objet itérable.<br>\n",
    "Exemple de structures de données: \n",
    "\n",
    "- listes (<b>[ ]</b>)\n",
    "- tuples (<b>( )</b>)\n",
    "- dictionnaires (<b>{key: valeur }</b>)\n",
    "- ensembles (<b>{ }</b>)\n",
    "- chaînes de caractères (<b>\"str\"</b>)"
   ]
  },
  {
   "cell_type": "code",
   "execution_count": 1,
   "id": "91b334fe",
   "metadata": {},
   "outputs": [
    {
     "name": "stdout",
     "output_type": "stream",
     "text": [
      "Iteration 1: Hello, World!\n",
      "Iteration 2: Hello, World!\n",
      "Iteration 3: Hello, World!\n",
      "Iteration 4: Hello, World!\n",
      "Iteration 5: Hello, World!\n",
      "Iteration 6: Hello, World!\n",
      "Iteration 7: Hello, World!\n",
      "Iteration 8: Hello, World!\n",
      "Iteration 9: Hello, World!\n",
      "Iteration 10: Hello, World!\n"
     ]
    }
   ],
   "source": [
    "# La structure de la boucle for en Python\n",
    "\n",
    "for i in range(10): \n",
    "    print(f\"Iteration {i + 1}: Hello, World!\")"
   ]
  },
  {
   "cell_type": "markdown",
   "id": "7ddbd8d1",
   "metadata": {},
   "source": [
    "## <u><b>Exemple 1</b></u>"
   ]
  },
  {
   "cell_type": "code",
   "execution_count": 2,
   "id": "867f8206",
   "metadata": {},
   "outputs": [
    {
     "name": "stdout",
     "output_type": "stream",
     "text": [
      "Vann\n",
      "Balthier\n",
      "Fran\n",
      "Ashe\n",
      "Basch\n",
      "Penelo\n"
     ]
    }
   ],
   "source": [
    "FF12_squad = [\"Vann\",\"Balthier\", \"Fran\", \"Ashe\", \"Basch\", \"Penelo\"]\n",
    "for combattant in FF12_squad :\n",
    "    print(combattant)\n",
    "# La boucle for va parcourir la liste FF12_squad et afficher chaque élément de la liste."
   ]
  },
  {
   "cell_type": "markdown",
   "id": "2fbdb259",
   "metadata": {},
   "source": [
    "## <u><b>Exemple 2</b></u>"
   ]
  },
  {
   "cell_type": "code",
   "execution_count": 3,
   "id": "56ff317c",
   "metadata": {},
   "outputs": [
    {
     "name": "stdout",
     "output_type": "stream",
     "text": [
      "0\n",
      "1\n",
      "2\n",
      "3\n",
      "4\n",
      "5\n"
     ]
    }
   ],
   "source": [
    "nombres = [0, 1, 2, 3, 4, 5]\n",
    "for i in nombres:\n",
    "    print(i)\n"
   ]
  },
  {
   "cell_type": "markdown",
   "id": "e2c8654b",
   "metadata": {},
   "source": [
    "## <u><b>Exemple 3</b></u>"
   ]
  },
  {
   "cell_type": "code",
   "execution_count": 4,
   "id": "7a4adcaf",
   "metadata": {},
   "outputs": [
    {
     "name": "stdout",
     "output_type": "stream",
     "text": [
      "Z\n",
      "o\n",
      "l\n",
      "é\n",
      "n\n",
      "i\n"
     ]
    }
   ],
   "source": [
    "for lettre in \"Zoléni\":\n",
    "    print(lettre)"
   ]
  },
  {
   "cell_type": "markdown",
   "id": "79fdb28b",
   "metadata": {},
   "source": [
    "## <u><b>Exemple 4</b></u>"
   ]
  },
  {
   "cell_type": "code",
   "execution_count": 5,
   "id": "e4bc3809",
   "metadata": {},
   "outputs": [
    {
     "name": "stdout",
     "output_type": "stream",
     "text": [
      "PSG\n",
      "PSG\n",
      "PSG\n",
      "PSG\n",
      "PSG\n",
      "PSG\n",
      "PSG\n",
      "PSG\n",
      "PSG\n",
      "PSG\n"
     ]
    }
   ],
   "source": [
    "for i in range(1, 11):\n",
    "    print(\"PSG\")"
   ]
  },
  {
   "cell_type": "markdown",
   "id": "72b845ae",
   "metadata": {},
   "source": [
    "##### La boucle for sert à deux choses : \n",
    "- Répéter une opération un certain nombre de fois\n",
    "- Parcourir des structures de données"
   ]
  },
  {
   "cell_type": "markdown",
   "id": "2006bed9",
   "metadata": {},
   "source": [
    "# La boucle while"
   ]
  },
  {
   "cell_type": "markdown",
   "id": "6223993b",
   "metadata": {},
   "source": [
    "## Principe de la boucle while "
   ]
  },
  {
   "cell_type": "markdown",
   "id": "45ae31b7",
   "metadata": {},
   "source": [
    "La boucle while s'exécutera tant que la condition est vraie "
   ]
  },
  {
   "cell_type": "markdown",
   "id": "2838808d",
   "metadata": {},
   "source": [
    "- Ecrivons l'exemple 4 d'une autre façon :"
   ]
  },
  {
   "cell_type": "code",
   "execution_count": null,
   "id": "ba4fc6df",
   "metadata": {},
   "outputs": [
    {
     "name": "stdout",
     "output_type": "stream",
     "text": [
      "PSG\n",
      "PSG\n",
      "PSG\n",
      "PSG\n",
      "PSG\n",
      "PSG\n",
      "PSG\n",
      "PSG\n",
      "PSG\n",
      "PSG\n"
     ]
    }
   ],
   "source": [
    "# La syntaxe de la boucle while est la suivante :\n",
    "# while condition:\n",
    "#     # bloc d'instructions\n",
    "#     print(\"PSG\")\n",
    "# La boucle while va continuer à afficher \"PSG\" tant que la variable i est inférieure à 10.\n",
    "# La boucle while est souvent utilisée lorsque le nombre d'itérations n'est pas connu à l'avance.\n",
    "\n",
    "i = 0\n",
    "while i < 10:\n",
    "    print(\"PSG\")\n",
    "    i += 1\n"
   ]
  },
  {
   "cell_type": "markdown",
   "id": "837bcaf2",
   "metadata": {},
   "source": [
    "## ATTENTION aux boucles infinies"
   ]
  },
  {
   "cell_type": "markdown",
   "id": "1cb1b679",
   "metadata": {},
   "source": [
    "Il faut cependant savoir si la boucle while est mal ulilisée, cela peut aboutir à une boucle infinie. Le script ne va jamais s'arrêter."
   ]
  },
  {
   "cell_type": "code",
   "execution_count": 7,
   "id": "cbab820a",
   "metadata": {},
   "outputs": [],
   "source": [
    "# Mais ATTENTION, la boucle while peut entraîner une boucle infinie si la condition n'est jamais fausse.\n",
    "# Par exemple : \n",
    "\n",
    "# i = 0\n",
    "# while i < 10:  <---- Ce qui est toujours vrai. Donc boucle infinie\n",
    "#     print(\"PSG\")"
   ]
  },
  {
   "cell_type": "markdown",
   "id": "9f16ac46",
   "metadata": {},
   "source": [
    "Il est donc important de s'assurer que la condition de la boucle while <u>finira par devenir fausse.</u>"
   ]
  },
  {
   "cell_type": "markdown",
   "id": "a53b1832",
   "metadata": {},
   "source": [
    "<u><b>Comment limiter les risques de cette boucle infinie ?</u></b>"
   ]
  },
  {
   "cell_type": "code",
   "execution_count": 8,
   "id": "d75a2721",
   "metadata": {},
   "outputs": [
    {
     "name": "stdout",
     "output_type": "stream",
     "text": [
      "PSG\n",
      "PSG\n",
      "PSG\n",
      "PSG\n"
     ]
    }
   ],
   "source": [
    "continuer = \"y\"\n",
    "# La boucle while va continuer à afficher \"PSG\" tant que la variable continuer est égale à \"y\".\n",
    "while continuer == \"y\":\n",
    "    print(\"PSG\")\n",
    "    continuer = input(\"Voulez-vous continuer ? (y/n) \")"
   ]
  },
  {
   "cell_type": "markdown",
   "id": "9f521899",
   "metadata": {},
   "source": [
    "Résumé\n",
    "- Une boucle while est exécutée tant qu'une contion est vraie\n",
    "- Attention aux boucles infinies"
   ]
  },
  {
   "cell_type": "markdown",
   "id": "9393b8df",
   "metadata": {},
   "source": [
    "# Modifier l'éxecution d'une boucle avec continue et break"
   ]
  },
  {
   "cell_type": "markdown",
   "id": "f4c2fa2c",
   "metadata": {},
   "source": [
    "L'instrucution <b>continue</b> permet de passer à l'itération suivante de la boucle sans exécuter le reste du bloc d'instructions.\n"
   ]
  },
  {
   "cell_type": "code",
   "execution_count": 9,
   "id": "709846a7",
   "metadata": {},
   "outputs": [
    {
     "name": "stdout",
     "output_type": "stream",
     "text": [
      "0\n",
      "1\n",
      "2\n",
      "3\n",
      "4\n",
      "6\n",
      "7\n",
      "8\n",
      "9\n"
     ]
    }
   ],
   "source": [
    "# Par exemple, si on veut afficher les nombres de 0 à 9 sauf le nombre 5 : b\n",
    "for i in range(10):\n",
    "    if i == 5:\n",
    "        continue\n",
    "    print(i)"
   ]
  },
  {
   "cell_type": "code",
   "execution_count": 10,
   "id": "80f26758",
   "metadata": {},
   "outputs": [
    {
     "name": "stdout",
     "output_type": "stream",
     "text": [
      "Paris\n",
      "Lyon\n",
      "Toulouse\n",
      "Nice\n",
      "C'est le code postal de la ville de Meaux\n",
      "Torcy\n",
      "Chessy\n"
     ]
    }
   ],
   "source": [
    "villes = [\"Paris\", \"Lyon\", \"Marseille\", \"Toulouse\", \"Nice\"]\n",
    "villes.extend([\"77100\", \"Torcy\", \"Chessy\"])\n",
    "for ville in villes:\n",
    "    if ville == \"Marseille\": # <----- On ne veut pas afficher Marseille\n",
    "        continue\n",
    "    if ville.isdigit():\n",
    "        print(\"C'est le code postal de la ville de Meaux\")\n",
    "        continue\n",
    "    print(ville)"
   ]
  },
  {
   "cell_type": "markdown",
   "id": "a01eb216",
   "metadata": {},
   "source": [
    "L'instruction <b>break</b> permet de sortir d'une boucle, quelle qu'elle soit (for ou while).\n"
   ]
  },
  {
   "cell_type": "code",
   "execution_count": 11,
   "id": "979b1511",
   "metadata": {},
   "outputs": [
    {
     "name": "stdout",
     "output_type": "stream",
     "text": [
      "Paris\n",
      "Lyon\n",
      "Meaux\n",
      "C'est un code postal\n"
     ]
    }
   ],
   "source": [
    "# L'instruction break permet de sortir d'une boucle, quelle qu'elle soit (for ou while).\n",
    "\n",
    "villes = [\"Paris\", \"Lyon\", \"Meaux\", \"77100\", \"Toulouse\", \"Nice\", \"Toulon\", \"Saint-Nazaire\"]\n",
    "for ville in villes:\n",
    "    if ville.isdigit():\n",
    "        print(\"C'est un code postal\")\n",
    "        break\n",
    "    print(ville)"
   ]
  },
  {
   "cell_type": "markdown",
   "id": "aa7e265b",
   "metadata": {},
   "source": [
    "Résumé :\n",
    "- continue fait passer la boucle directement à la prochaine itération\n",
    "- break arrête l'éxécution de la boucle au complet"
   ]
  },
  {
   "cell_type": "markdown",
   "id": "3cd169de",
   "metadata": {},
   "source": [
    "# Les compréhensions de liste"
   ]
  },
  {
   "cell_type": "code",
   "execution_count": 12,
   "id": "3fb40256",
   "metadata": {},
   "outputs": [
    {
     "name": "stdout",
     "output_type": "stream",
     "text": [
      "Nombre négatif trouvé :  -5\n",
      "Nombre négatif trouvé :  -4\n",
      "Nombre négatif trouvé :  -3\n",
      "Nombre négatif trouvé :  -2\n",
      "Nombre négatif trouvé :  -1\n",
      "Liste des nombres négatifs :  [-5, -4, -3, -2, -1]\n"
     ]
    }
   ],
   "source": [
    "liste = [-5,-4,-3,-2,-1,0,1,2,3,4,5]\n",
    "# On va créer une liste qui va contenir tous les nombres négatifs de la liste ci-dessus.\n",
    "nb_negatifs = []\n",
    "for i in liste:\n",
    "    if i < 0:\n",
    "        nb_negatifs.append(i)\n",
    "        print(\"Nombre négatif trouvé : \", i)\n",
    "print(\"Liste des nombres négatifs : \", nb_negatifs)"
   ]
  },
  {
   "cell_type": "code",
   "execution_count": 13,
   "id": "276c9923",
   "metadata": {},
   "outputs": [
    {
     "name": "stdout",
     "output_type": "stream",
     "text": [
      "Liste des nombres négatifs :  [-10, -8, -6, -4, -2]\n"
     ]
    }
   ],
   "source": [
    "# La compréhension de liste est une façon concise de créer une liste en une seule ligne de code.\n",
    "# Elle permet de créer une nouvelle liste en appliquant une expression à chaque élément d'une séquence ou d'un itérable.\n",
    "# Par exemple, on peut créer une liste qui va contenir tous les nombres négatifs de la liste ci-dessus\n",
    "# en utilisant la compréhension de liste :\n",
    "\n",
    "nb_negatifs.clear()\n",
    "nb_negatifs = [i*2 for i in liste if i < 0]\n",
    "print(\"Liste des nombres négatifs : \", nb_negatifs)"
   ]
  },
  {
   "cell_type": "markdown",
   "id": "3f874166",
   "metadata": {},
   "source": [
    "# Exercices"
   ]
  },
  {
   "cell_type": "markdown",
   "id": "8e8faeba",
   "metadata": {},
   "source": [
    "## Exercice n°1 : Remplacer des boucles par des compréhensions de liste"
   ]
  },
  {
   "cell_type": "code",
   "execution_count": 14,
   "id": "44c78dc6",
   "metadata": {},
   "outputs": [
    {
     "name": "stdout",
     "output_type": "stream",
     "text": [
      "Liste des nombres pairs :  [44, 4, 38]\n"
     ]
    }
   ],
   "source": [
    "# La compréhension de liste est souvent plus rapide et plus lisible que d'utiliser une boucle for classique.\n",
    "# On peut également utiliser la compréhension de liste pour créer une liste qui va contenir tous les nombres pairs\n",
    "# de la liste ci-dessus.\n",
    "\n",
    "nombres = [1, 21, 5 , 44, 4, 9, 5, 83, 29, 31, 25, 38]\n",
    "nombres_pairs  = []\n",
    "for i in nombres:\n",
    "    if i % 2 == 0:\n",
    "        nombres_pairs.append(i)\n",
    "print(\"Liste des nombres pairs : \", nombres_pairs)"
   ]
  },
  {
   "cell_type": "code",
   "execution_count": 15,
   "id": "8a4697a8",
   "metadata": {},
   "outputs": [
    {
     "name": "stdout",
     "output_type": "stream",
     "text": [
      "Liste des nombres pairs :  [44, 4, 38]\n"
     ]
    }
   ],
   "source": [
    "# On peut aussi utiliser la compréhension de liste pour créer une liste qui va contenir tous les nombres pairs de la liste ci-dessus :\n",
    "nombres_pairs.clear()\n",
    "nombres_pairs = [i for i in nombres if i % 2 == 0]\n",
    "print(\"Liste des nombres pairs : \", nombres_pairs)"
   ]
  },
  {
   "cell_type": "code",
   "execution_count": 16,
   "id": "2f3e49fd",
   "metadata": {},
   "outputs": [
    {
     "name": "stdout",
     "output_type": "stream",
     "text": [
      "Liste des nombres positifs :  [0, 1, 2, 3, 4, 5, 6, 7, 8, 9]\n"
     ]
    }
   ],
   "source": [
    "# On va créer une liste qui va contenir tous les nombres positifs de la liste ci-dessus.\n",
    "nombres = range(-10, 10)\n",
    "nombres_positifs = []\n",
    "for i in nombres:\n",
    "    if i >= 0:\n",
    "        nombres_positifs.append(i)\n",
    "print(\"Liste des nombres positifs : \", nombres_positifs)"
   ]
  },
  {
   "cell_type": "code",
   "execution_count": 17,
   "id": "a9640fd4",
   "metadata": {},
   "outputs": [
    {
     "name": "stdout",
     "output_type": "stream",
     "text": [
      "Liste des nombres positifs :  [0, 1, 2, 3, 4, 5, 6, 7, 8, 9]\n"
     ]
    }
   ],
   "source": [
    "# On peut aussi utiliser la compréhension de liste pour créer une liste qui va contenir tous les nombres positifs de la liste ci-dessus :\n",
    "nombres_positifs.clear() # type: ignore\n",
    "nombres_positifs = [i for i in nombres if i >= 0] # type: ignore\n",
    "print(\"Liste des nombres positifs : \", nombres_positifs)"
   ]
  },
  {
   "cell_type": "code",
   "execution_count": 18,
   "id": "5a39290e",
   "metadata": {},
   "outputs": [
    {
     "name": "stdout",
     "output_type": "stream",
     "text": [
      "[0, 2, 4, 6, 8]\n"
     ]
    }
   ],
   "source": [
    "nombres = range(5)\n",
    "nombres_doubles = []\n",
    "for i in nombres:\n",
    "    nombres_doubles.append(i*2)\n",
    "print(nombres_doubles)"
   ]
  },
  {
   "cell_type": "code",
   "execution_count": 19,
   "id": "99d49237",
   "metadata": {},
   "outputs": [
    {
     "name": "stdout",
     "output_type": "stream",
     "text": [
      "[0, 2, 4, 6, 8]\n"
     ]
    }
   ],
   "source": [
    "# On peut aussi utiliser la compréhension de liste pour créer une liste qui va contenir tous les nombres doubles de la liste ci-dessus :\n",
    "nombres_doubles.clear() # type: ignore\n",
    "nombres_doubles = [i*2 for i in nombres] # type: ignore\n",
    "print(nombres_doubles)"
   ]
  },
  {
   "cell_type": "code",
   "execution_count": 20,
   "id": "18ccb71d",
   "metadata": {},
   "outputs": [
    {
     "name": "stdout",
     "output_type": "stream",
     "text": [
      "[0, -1, 2, -3, 4, -5, 6, -7, 8, -9]\n"
     ]
    }
   ],
   "source": [
    "nombres = range(10)\n",
    "nombres_inverses = []\n",
    "for i in nombres:\n",
    "    if i % 2 == 0:\n",
    "        nombres_inverses.append(i)\n",
    "    else:\n",
    "        nombres_inverses.append(-i)\n",
    "print(nombres_inverses)"
   ]
  },
  {
   "cell_type": "code",
   "execution_count": 21,
   "id": "5e4f5d6d",
   "metadata": {},
   "outputs": [
    {
     "name": "stdout",
     "output_type": "stream",
     "text": [
      "[0, -1, 2, -3, 4, -5, 6, -7, 8, -9]\n"
     ]
    }
   ],
   "source": [
    "# On peut aussi utiliser la compréhension de liste pour créer une liste qui va contenir tous les nombres inversés de la liste ci-dessus :\n",
    "nombres_inverses.clear() # type: ignore\n",
    "nombres_inverses = [i if i % 2 == 0 else -i for i in nombres]\n",
    "print(nombres_inverses) "
   ]
  },
  {
   "cell_type": "markdown",
   "id": "41bca4fb",
   "metadata": {},
   "source": [
    "## Exercice n°2: Afficher dix utilisateurs"
   ]
  },
  {
   "cell_type": "code",
   "execution_count": 22,
   "id": "a76bb117",
   "metadata": {},
   "outputs": [
    {
     "name": "stdout",
     "output_type": "stream",
     "text": [
      "Utilisateur 1\n",
      "Utilisateur 2\n",
      "Utilisateur 3\n",
      "Utilisateur 4\n",
      "Utilisateur 5\n",
      "Utilisateur 6\n",
      "Utilisateur 7\n",
      "Utilisateur 8\n",
      "Utilisateur 9\n",
      "Utilisateur 10\n"
     ]
    }
   ],
   "source": [
    "# Ma solution :\n",
    "i = 0\n",
    "while i < 10:\n",
    "    print(f\"Utilisateur {i+1}\")\n",
    "    i += 1\n"
   ]
  },
  {
   "cell_type": "code",
   "execution_count": 23,
   "id": "a0b15564",
   "metadata": {},
   "outputs": [
    {
     "name": "stdout",
     "output_type": "stream",
     "text": [
      "Utilisateur 1\n",
      "Utilisateur 2\n",
      "Utilisateur 3\n",
      "Utilisateur 4\n",
      "Utilisateur 5\n",
      "Utilisateur 6\n",
      "Utilisateur 7\n",
      "Utilisateur 8\n",
      "Utilisateur 9\n",
      "Utilisateur 10\n"
     ]
    }
   ],
   "source": [
    "# Autre solution :\n",
    "for i in range(10):\n",
    "    print(f\"Utilisateur {i+1}\")"
   ]
  },
  {
   "cell_type": "markdown",
   "id": "e6cba1d3",
   "metadata": {},
   "source": [
    "## Exercice n°3: Afficher un mot à l'envers"
   ]
  },
  {
   "cell_type": "code",
   "execution_count": 24,
   "id": "e85766d1",
   "metadata": {},
   "outputs": [
    {
     "name": "stdout",
     "output_type": "stream",
     "text": [
      "['n', 'o', 'h', 't', 'y', 'P']\n",
      "n\n",
      "o\n",
      "h\n",
      "t\n",
      "y\n",
      "P\n"
     ]
    }
   ],
   "source": [
    "mot = \"Python\"\n",
    "liste_mot = (list(reversed(mot))) # ----> On inverse la chaîne de caractères\n",
    "                                  # ----> On transforme la chaîne de caractères en liste de caractères\n",
    "print(liste_mot)\n",
    "\n",
    "for i in liste_mot:\n",
    "    print(i)"
   ]
  },
  {
   "cell_type": "code",
   "execution_count": 25,
   "id": "a480fdb3",
   "metadata": {},
   "outputs": [
    {
     "name": "stdout",
     "output_type": "stream",
     "text": [
      "n\n",
      "o\n",
      "h\n",
      "t\n",
      "y\n",
      "P\n"
     ]
    }
   ],
   "source": [
    "# Autre solution (La plus simple) :\n",
    "for lettre in reversed(mot): \n",
    "    print(lettre)"
   ]
  },
  {
   "cell_type": "code",
   "execution_count": 26,
   "id": "307eff31",
   "metadata": {},
   "outputs": [
    {
     "name": "stdout",
     "output_type": "stream",
     "text": [
      "On continue !\n",
      "On continue !\n",
      "On continue !\n"
     ]
    }
   ],
   "source": [
    "# Très simple :\n",
    "continuer = \"o\"\n",
    "while continuer == \"o\":\n",
    "    print(\"On continue !\")\n",
    "    continuer = input(\"Voulez-vous continuer ? (o/n) \")"
   ]
  },
  {
   "cell_type": "code",
   "execution_count": 27,
   "id": "a26aa735",
   "metadata": {},
   "outputs": [
    {
     "name": "stdout",
     "output_type": "stream",
     "text": [
      "On continue !\n"
     ]
    }
   ],
   "source": [
    "# Autre solution :\n",
    "continuer = \"o\"\n",
    "while continuer == \"o\":\n",
    "    print(\"On continue !\")\n",
    "    resulat = input(\"Voulez-vous continuer ? (o/n) \")\n",
    "    if resulat != \"o\":\n",
    "        break"
   ]
  },
  {
   "cell_type": "markdown",
   "id": "b3f41989",
   "metadata": {},
   "source": [
    "# Projet : La calculatrice et gestion d'erreurs"
   ]
  },
  {
   "cell_type": "code",
   "execution_count": null,
   "id": "d2135358",
   "metadata": {},
   "outputs": [
    {
     "name": "stdout",
     "output_type": "stream",
     "text": [
      "Erreur de saisie, veuillez entrer deux nombres entiers.\n",
      "Erreur de saisie, veuillez entrer deux nombres entiers.\n",
      "La somme de 25 et 77 est : 102\n"
     ]
    }
   ],
   "source": [
    "# Objectif : Demander à l'utilisateur de saisir deux nombres et afficher la somme de ces deux nombres.\n",
    "# Tout en gérant les erreurs de saisie.\n",
    "# On va utiliser une boucle while pour demander à l'utilisateur de saisir deux nombres\n",
    "\n",
    "a = b = \"\"\n",
    "while not (a.isdigit() and b.isdigit()):\n",
    "    a = input(\"Entrez un premier nombre : \")\n",
    "    b = input(\"Entrez un deuxième nombre : \")\n",
    "    if not (a.isdigit() and b.isdigit()):\n",
    "        print(\"Erreur de saisie, veuillez entrer deux nombres entiers.\")\n",
    "\n",
    "print(f\"La somme de {a} et {b} est : {int(a) + int(b)}\")"
   ]
  },
  {
   "cell_type": "markdown",
   "id": "3672e33e",
   "metadata": {},
   "source": [
    "&#169; <b>Zoléni KOKOLO ZASSI</b>\n",
    "\n",
    "12 mai 2025, mis à jour le 15 juillet 2025"
   ]
  }
 ],
 "metadata": {
  "kernelspec": {
   "display_name": "Python 3",
   "language": "python",
   "name": "python3"
  },
  "language_info": {
   "codemirror_mode": {
    "name": "ipython",
    "version": 3
   },
   "file_extension": ".py",
   "mimetype": "text/x-python",
   "name": "python",
   "nbconvert_exporter": "python",
   "pygments_lexer": "ipython3",
   "version": "3.13.5"
  }
 },
 "nbformat": 4,
 "nbformat_minor": 5
}
