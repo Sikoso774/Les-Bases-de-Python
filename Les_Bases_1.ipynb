{
 "cells": [
  {
   "cell_type": "markdown",
   "metadata": {},
   "source": [
    "# Afficher un texte"
   ]
  },
  {
   "cell_type": "code",
   "execution_count": 1,
   "metadata": {},
   "outputs": [
    {
     "name": "stdout",
     "output_type": "stream",
     "text": [
      "Texte ou variable\n",
      "Hello World\n"
     ]
    }
   ],
   "source": [
    "#..... = Avec #, on fait un commentaire pour ne pas perdre le lecteur du code\n",
    "\n",
    "# Affichage de caractères ou de variables sur la console:\n",
    "print(\"Texte ou variable\") \n",
    "\n",
    "# Laisser la personne d'écrire quelque chose sur la console: \n",
    "\n",
    "a=input (\"Ecrivez quelque chose\")\n",
    "print(a)"
   ]
  },
  {
   "cell_type": "markdown",
   "metadata": {},
   "source": [
    "# Les types de variables"
   ]
  },
  {
   "cell_type": "code",
   "execution_count": 2,
   "metadata": {},
   "outputs": [
    {
     "name": "stdout",
     "output_type": "stream",
     "text": [
      "Les différents types de variables :\n",
      " i: <class 'int'>\n",
      " s: <class 'str'>\n",
      " f: <class 'float'>\n",
      " b: <class 'bool'>\n"
     ]
    }
   ],
   "source": [
    "# Les types de variables \n",
    " \n",
    "i = 2          # integers <int>\n",
    "s = \"abc\"      # string   <str>\n",
    "f = 2.225      # float    <float>\n",
    "b = True       # boolean  <bool>\n",
    "\n",
    "print(f\"Les différents types de variables :\\n i: {type(i)}\\n s: {type(s)}\\n f: {type(f)}\\n b: {type(b)}\")\n"
   ]
  },
  {
   "cell_type": "markdown",
   "metadata": {},
   "source": [
    "Convertir les types de variables en d'autres types :"
   ]
  },
  {
   "cell_type": "code",
   "execution_count": 3,
   "metadata": {},
   "outputs": [
    {
     "name": "stdout",
     "output_type": "stream",
     "text": [
      "Les différents types de variables :\n",
      " i: <class 'float'>\n",
      " s: <class 'bool'>\n",
      " f: <class 'int'>\n",
      " b: <class 'str'>\n"
     ]
    }
   ],
   "source": [
    "y=float(i)\n",
    "t=bool(s)\n",
    "g=int(f)\n",
    "c=str(b)\n",
    "print(f\"Les différents types de variables :\\n i: {type(y)}\\n s: {type(t)}\\n f: {type(g)}\\n b: {type(c)}\")\n"
   ]
  },
  {
   "cell_type": "markdown",
   "metadata": {},
   "source": [
    "# Manipuler une chaîne de caractères"
   ]
  },
  {
   "cell_type": "markdown",
   "metadata": {},
   "source": [
    "## Les méthodes de bases"
   ]
  },
  {
   "cell_type": "code",
   "execution_count": 4,
   "metadata": {},
   "outputs": [
    {
     "name": "stdout",
     "output_type": "stream",
     "text": [
      "<str> en MAJ: BONJOUR\n",
      "<str> en min: bonjour\n",
      "<str> avec la 1ère lettre en MAJ: Bonjour tout le monde\n",
      "<str> avec les premières lettres de chaque mot en MAJ: Bonjour Tout Le Monde\n",
      "éléments d'une <str> remplacés: bonsoir\n",
      "élements d'une <str> enlevés: bonsoi\n"
     ]
    }
   ],
   "source": [
    "a = \"Bonjour\".upper()                               # Mettre la <str> en MAJUSCULE\n",
    "\n",
    "b = \"Bonjour\".lower()                               # Mettre la <str> en minuscule\n",
    "\n",
    "c = \"bonjour tout le monde\".capitalize()            # Mettre la 1ère lettre en majuscule\n",
    "\n",
    "d = \"bonjour tout le monde\".title()                 # Mettre en MAJUSCULE la 1ère lettre de CHAQUE mot\n",
    "\n",
    "e = \"bonjour\".replace(\"jour\",\"soir\")                # Remplacer les éléments d'une <str>\n",
    "\n",
    "f=e.strip(\"suor\")                                   # Enlever des éléments d'une <str>\n",
    "\n",
    "print(f\"<str> en MAJ: {a}\\n<str> en min: {b}\\n<str> avec la 1ère lettre en MAJ: {c}\\n<str> avec les premières lettres de chaque mot en MAJ: {d}\\n\"\n",
    "    f\"éléments d'une <str> remplacés: {e}\\nélements d'une <str> enlevés: {f}\")"
   ]
  },
  {
   "cell_type": "markdown",
   "metadata": {},
   "source": [
    "## Transformer une chaîne de caractères en liste"
   ]
  },
  {
   "cell_type": "code",
   "execution_count": 5,
   "metadata": {},
   "outputs": [
    {
     "name": "stdout",
     "output_type": "stream",
     "text": [
      "a) ['1', '2', '3', '4', '5'] Cela retourne une liste \n",
      "b) 1, 2, 3, 4, 5 Cela retourne une chaîne de caractères\n"
     ]
    }
   ],
   "source": [
    "# \"1, 2, 3, 4, 5\".split(\", \") Cela retourne une liste\n",
    "# \", \".join(\"1, 2, 3, 4, 5\".split(\", \")) \n",
    "print(f\"a) {\"1, 2, 3, 4, 5\".split(\", \")} Cela retourne une liste \\nb) {\", \".join(\"1, 2, 3, 4, 5\".split(\", \"))} Cela retourne une chaîne de caractères\") "
   ]
  },
  {
   "cell_type": "code",
   "execution_count": 6,
   "metadata": {},
   "outputs": [
    {
     "name": "stdout",
     "output_type": "stream",
     "text": [
      "00\n",
      "01\n",
      "02\n",
      "03\n"
     ]
    }
   ],
   "source": [
    "# Remplir de zéros \n",
    "for i in range(4):\n",
    "    print(str(i).zfill(2))\n",
    "\n",
    "# 2.zfill(9) cela marche UNIQUEMENT avec les chaînes de caractères"
   ]
  },
  {
   "cell_type": "markdown",
   "metadata": {},
   "source": [
    "## La concaténation"
   ]
  },
  {
   "cell_type": "markdown",
   "metadata": {},
   "source": [
    "Les méthodes d'intégration d'une variable directement dans la chaîne de caractères\n"
   ]
  },
  {
   "cell_type": "code",
   "execution_count": 7,
   "metadata": {},
   "outputs": [
    {
     "name": "stdout",
     "output_type": "stream",
     "text": [
      "Bonjour je suis Zoléni !\n",
      "J'ai 19 ans\n"
     ]
    },
    {
     "data": {
      "text/plain": [
       "\"Je suis Zoléni et j'ai 19 ans. \""
      ]
     },
     "execution_count": 7,
     "metadata": {},
     "output_type": "execute_result"
    }
   ],
   "source": [
    "# Intégration de la variable prenom directement dans la chaîne de caractères\n",
    "\n",
    "prenom = \"Zoléni\"\n",
    "age=19\n",
    "\n",
    "print(f\"Bonjour je suis {prenom} !\")    # Concaténation en f-string (disponible en version 3.6 ou plus de Python)\n",
    "\n",
    "print(\"J'ai {nb} ans\".format(nb=age))   # Insertion d'objets a l'intérieur d'un emplacement d'une <str>\n",
    "\n",
    "\"Je suis {} et j'ai {} ans. \".format(prenom,age)"
   ]
  },
  {
   "cell_type": "markdown",
   "metadata": {},
   "source": [
    "# On résume"
   ]
  },
  {
   "cell_type": "code",
   "execution_count": 8,
   "metadata": {},
   "outputs": [],
   "source": [
    "protocole= \"https://\"\n",
    "nom_du_site= \"youtube\"\n",
    "extension= \"fr\"\n",
    "\n",
    "# Avec l'opérateur + :\n",
    "url_1=protocole + \"www.\" + nom_du_site + \".\" + extension\n",
    "\n",
    "# Avec la méthode format :\n",
    "url_2=\"{}www.{}.{}\".format(protocole,nom_du_site,extension)\n",
    "url_3=\"{protocole}www.{domaine}.{extension}\".format(protocole=protocole,domaine=nom_du_site,extension=extension)\n",
    "\n",
    "# Avec les f-string : \n",
    "url_4=f\"{protocole}www.{nom_du_site}.{extension}\"\n"
   ]
  },
  {
   "cell_type": "code",
   "execution_count": 9,
   "metadata": {},
   "outputs": [
    {
     "name": "stdout",
     "output_type": "stream",
     "text": [
      "https://www.youtube.fr\n",
      "https://www.youtube.fr\n",
      "https://www.youtube.fr\n",
      "https://www.youtube.fr\n"
     ]
    }
   ],
   "source": [
    "print(url_1)\n",
    "print(url_2)\n",
    "print(url_3)\n",
    "print(url_4)"
   ]
  },
  {
   "cell_type": "code",
   "execution_count": 10,
   "metadata": {},
   "outputs": [
    {
     "data": {
      "text/plain": [
       "False"
      ]
     },
     "execution_count": 10,
     "metadata": {},
     "output_type": "execute_result"
    }
   ],
   "source": [
    "\"Bonjour\".istitle() \n",
    "#True\n",
    "\n",
    "\"40\".isdigit() \n",
    "#True\n",
    "\n",
    "\"58b\".isdigit()\n",
    "#False"
   ]
  },
  {
   "cell_type": "markdown",
   "metadata": {},
   "source": [
    "&#169; <b>Zoléni KOKOLO ZASSI</b>\n",
    "\n",
    "17 mars 2025, mis à jour le 15 juillet 2025"
   ]
  }
 ],
 "metadata": {
  "kernelspec": {
   "display_name": ".venv",
   "language": "python",
   "name": "python3"
  },
  "language_info": {
   "codemirror_mode": {
    "name": "ipython",
    "version": 3
   },
   "file_extension": ".py",
   "mimetype": "text/x-python",
   "name": "python",
   "nbconvert_exporter": "python",
   "pygments_lexer": "ipython3",
   "version": "3.12.5"
  }
 },
 "nbformat": 4,
 "nbformat_minor": 2
}
