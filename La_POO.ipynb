{
 "cells": [
  {
   "cell_type": "markdown",
   "id": "f1f002e1",
   "metadata": {},
   "source": [
    "# Introduction"
   ]
  },
  {
   "cell_type": "markdown",
   "id": "e3150ebd",
   "metadata": {},
   "source": [
    "# Les classes"
   ]
  },
  {
   "cell_type": "markdown",
   "id": "93a2c5b8",
   "metadata": {},
   "source": [
    "En Python, une classe est un modèle ou une structure qui permet de définir des objets. Elle regroupe des attributs (données) et des méthodes (fonctions) qui décrivent le comportement et les propriétés des objets créés à partir de cette classe. \n",
    "\n",
    "- #### Définition d'une classe :\n",
    " Une classe est définie à l'aide du mot-clé __class__. Elle sert de plan pour créer des instances (ou objets), qui sont des entités concrètes basées sur cette classe.\n",
    "\n",
    "- #### Structure d'une classe :\n",
    "Voici les éléments principaux d'une classe :\n",
    "\n",
    "1. Attributs :\n",
    "\n",
    "Ce sont des variables qui stockent les données ou les propriétés d'un objet.\n",
    "Ils peuvent être définis dans la méthode spéciale __init__ (le constructeur) ou directement dans la classe.\n",
    "\n",
    "2. Méthodes :\n",
    "\n",
    "Ce sont des fonctions définies dans une classe qui décrivent les comportements ou actions que les objets peuvent effectuer.\n",
    "La méthode spéciale __init__ est appelée automatiquement lors de la création d'un objet pour initialiser ses attributs.\n",
    "\n",
    "3. Objet :\n",
    "\n",
    "Une instance d'une classe. Chaque objet possède ses propres valeurs pour les attributs définis dans la classe."
   ]
  },
  {
   "cell_type": "markdown",
   "id": "0fbce09f",
   "metadata": {},
   "source": [
    "### Exemple d'une classe simple"
   ]
  },
  {
   "cell_type": "code",
   "execution_count": 1,
   "id": "92a8fd56",
   "metadata": {},
   "outputs": [],
   "source": [
    "# Création d'une classe Livre \n",
    "\n",
    "class Livre:\n",
    "    def __init__(self,Titre, Auteur, An_pub):\n",
    "        self.titre=Titre\n",
    "        self.author=Auteur\n",
    "        self.year=An_pub\n",
    "    def afficher(self):\n",
    "        print(f\"Le titre du livre est {self.titre} dont l'auteur est {self.author}. Il est sorti en {self.year}.\")\n"
   ]
  },
  {
   "cell_type": "code",
   "execution_count": 2,
   "id": "f08814ea",
   "metadata": {},
   "outputs": [
    {
     "name": "stdout",
     "output_type": "stream",
     "text": [
      "Le titre du livre est Louca dont l'auteur est Bruno Dequier. Il est sorti en 2014.\n",
      "Le titre du livre est La légende Final fansy XII dont l'auteur est Rémi Lopez. Il est sorti en 2024.\n"
     ]
    }
   ],
   "source": [
    "# Instantation : creation d'objets de la classe Livre\n",
    "# lv est le nom de l'objet\n",
    "\n",
    "lv1 = Livre(\"Louca\", \"Bruno Dequier\", 2014)\n",
    "lv2 = Livre(\"La légende Final fansy XII\",\"Rémi Lopez\", 2024)\n",
    "\n",
    "lv1.afficher()\n",
    "lv2.afficher()"
   ]
  },
  {
   "cell_type": "markdown",
   "id": "815a0b7a",
   "metadata": {},
   "source": [
    "### La classe Bachelor"
   ]
  },
  {
   "cell_type": "code",
   "execution_count": 3,
   "id": "1325e031",
   "metadata": {},
   "outputs": [],
   "source": [
    "# Création de la classe Bachelor\n",
    "\n",
    "class Bachelor:\n",
    "    #attributs\n",
    "    def __init__(self,nom,age,note):\n",
    "        self.__nom=nom\n",
    "        self.age=age\n",
    "        self.note=note\n",
    "\n",
    "    #méthodes\n",
    "    def afficher(self):\n",
    "        print(f\"Nom : {self.getnom()}\")\n",
    "        print(f\"Age : {self.age}\")\n",
    "        print(f\"Note : {self.note}\")\n",
    "\n",
    "    #fonction  \"get\" -> récupérer la valeur de l'attribut\n",
    "    def getnom(self):\n",
    "        return self.__nom\n",
    "    \n",
    "    #fonction \"set\" -> modifier la valeur de l'attribut\n",
    "    def setnom(self,nom):\n",
    "        self.__nom=nom\n",
    "\n",
    "\n",
    "    def ajouter(self,points):\n",
    "        print(f\"Nouvelle note: {self.note + points}\\n\")\n",
    "        self.note += points"
   ]
  },
  {
   "cell_type": "code",
   "execution_count": 4,
   "id": "6c8d1901",
   "metadata": {},
   "outputs": [
    {
     "name": "stdout",
     "output_type": "stream",
     "text": [
      "Killian\n",
      "Nouvelle note: 19\n",
      "\n",
      "Nom : Killian\n",
      "Age : 20\n",
      "Note : 19\n"
     ]
    }
   ],
   "source": [
    "# Instantation : creation d'un objet d'un classe\n",
    "# Appel de la classe Bachelor() pour créer un objet etd1\n",
    "\n",
    "bchlr1 = Bachelor(\"Zoléni\", 20, 17)\n",
    "bchlr1.setnom(\"Killian\")\n",
    "print (bchlr1.getnom())\n",
    "\n",
    "bchlr1.ajouter(2)\n",
    "bchlr1.afficher()"
   ]
  },
  {
   "cell_type": "markdown",
   "id": "ca4a2ceb",
   "metadata": {},
   "source": [
    "### Un rectangle"
   ]
  },
  {
   "cell_type": "code",
   "execution_count": 5,
   "id": "537cdfd4",
   "metadata": {},
   "outputs": [],
   "source": [
    "# Création de la classe Rectangle\n",
    "# La classe Rectangle est une classe qui permet de créer des objets de type rectangle\n",
    "\n",
    "class Rectangle:\n",
    "    \"\"\"Ceci est la classe rectangle\"\"\"\n",
    "    def __init__(self,longueur=0.0, largeur=0.0,couleur=\"blanc\"):\n",
    "        \"\"\"Initialisation d'un objet.\n",
    "        \n",
    "        Définition des attributs avec des valeur par défaut.\n",
    "        \"\"\"\n",
    "        self.longueur=longueur\n",
    "        self.largeur=largeur\n",
    "        self.couleur=couleur\n",
    "\n",
    "    def calcule_surface(self):\n",
    "        \"\"\"Méthode qui calcule la surface.\"\"\"\n",
    "        return   self.longueur*self.largeur\n",
    "    \n",
    "    def change_carre(self,cote):\n",
    "        \"\"\"Méthode transforme un rectangle en carré\"\"\"\n",
    "        self.longueur=cote\n",
    "        self.largeur=cote\n",
    "\n",
    "    def ligne_vide(self):\n",
    "        print(\" \" *20)\n",
    "        \"\"\"Méthode qui affiche une ligne vide\"\"\"\n",
    "\n",
    "    def afficher(self):\n",
    "        print (f\"Longueur: {self.longueur}\\nLargeur: {self.largeur}\\nCouleur: {self.couleur}\\n\"\n",
    "               f\"Surface: {self.calcule_surface()}\")"
   ]
  },
  {
   "cell_type": "code",
   "execution_count": 6,
   "id": "9d213658",
   "metadata": {},
   "outputs": [
    {
     "name": "stdout",
     "output_type": "stream",
     "text": [
      "Longueur: 2\n",
      "Largeur: 3\n",
      "Couleur: noir\n",
      "Surface: 6\n",
      "                    \n",
      "Longueur: 5\n",
      "Largeur: 5\n",
      "Couleur: noir\n",
      "Surface: 25\n"
     ]
    }
   ],
   "source": [
    "if __name__==\"__main__\":\n",
    "    rectangle = Rectangle(2,3,\"noir\")\n",
    "    rectangle.afficher()\n",
    "    rectangle.ligne_vide()\n",
    "    rectangle.change_carre(5)\n",
    "    rectangle.afficher()"
   ]
  },
  {
   "cell_type": "markdown",
   "id": "08080796",
   "metadata": {},
   "source": [
    "### Un dernier exemple pour la route"
   ]
  },
  {
   "cell_type": "code",
   "execution_count": 7,
   "id": "99569531",
   "metadata": {},
   "outputs": [
    {
     "name": "stdout",
     "output_type": "stream",
     "text": [
      "jaune\n",
      "acide\n"
     ]
    }
   ],
   "source": [
    "class Citron:\n",
    "    couleur=\"jaune\"\n",
    "    def afficher(self):\n",
    "        print(self.couleur)\n",
    "    def recuperer_saveur(self):\n",
    "        return \"acide\"\n",
    "\n",
    "if __name__==\"__main__\":\n",
    "    citron1 = Citron()\n",
    "    citron1.afficher()\n",
    "    saveur=citron1.recuperer_saveur()\n",
    "    print(saveur)"
   ]
  },
  {
   "cell_type": "markdown",
   "id": "f80dea62",
   "metadata": {},
   "source": [
    "## Le Polymorphisme"
   ]
  },
  {
   "cell_type": "markdown",
   "id": "d1ee039d",
   "metadata": {},
   "source": [
    "Le Polymorphisme permet de :\n",
    " Redéfinir des méthodes\n",
    "- Surchager des méthodes \n",
    "- Dans la même classe, j'ai 2 méthodes qui ont même nom mais avec des comp différents:\n",
    "\n",
    "     - même nom\n",
    "     - différence (nombre,type)\n",
    "\n",
    "- Surcharger des opérateurs"
   ]
  },
  {
   "cell_type": "markdown",
   "id": "f7bd0287",
   "metadata": {},
   "source": [
    "#### Exemple :"
   ]
  },
  {
   "cell_type": "code",
   "execution_count": 8,
   "id": "871c18d8",
   "metadata": {},
   "outputs": [
    {
     "name": "stdout",
     "output_type": "stream",
     "text": [
      "Salaire avec prime: 1020\n",
      "3020\n",
      "60000\n"
     ]
    }
   ],
   "source": [
    "class employé:\n",
    "    def __init__(self, salaire):\n",
    "        self.salaire=salaire\n",
    "\n",
    "    def calcul_salaire(self, prime=None):  #\"None\" = soit la prime est là, soit elle n'est pas là...\n",
    "          if prime==None:\n",
    "               print(f\"Salaire: {self.salaire}\")\n",
    "          else:\n",
    "            print(f\"Salaire avec prime: {self.salaire+prime}\")\n",
    "\n",
    "    def __add__(self,e):\n",
    "        return self.salaire+e.salaire\n",
    "    def __mul__(self,e):\n",
    "        return self.salaire*e.salaire\n",
    "\n",
    "s1=employé(20)\n",
    "s1.calcul_salaire(1000)\n",
    "\n",
    "s2=employé(3000)\n",
    "\n",
    "print(s1+s2)\n",
    "print(s1*s2)"
   ]
  },
  {
   "cell_type": "markdown",
   "id": "fa08379a",
   "metadata": {},
   "source": [
    "## Le principe d'hérédité"
   ]
  },
  {
   "cell_type": "markdown",
   "id": "2c530451",
   "metadata": {},
   "source": [
    "L'hérédité est un concept fondamental en programmation orientée objet (POO), y compris en Python.\n",
    "  \n",
    "Elle permet à une classe (appelée classe dérivée ou classe enfant) d'hériter des attributs et des méthodes d'une autre classe (appelée classe de base ou classe parent).\n",
    "\n",
    "Cela favorise la réutilisation du code et facilite l'extension des fonctionnalités.\n",
    "\n",
    "Principe de l'hérédité :\n",
    "- Une classe parent contient des attributs et des méthodes de base.\n",
    "- Une classe enfant hérite de ces attributs et méthodes, mais peut également :\n",
    "Ajouter de nouveaux attributs ou méthodes.\n",
    "Redéfinir (ou surcharger) les méthodes de la classe parent."
   ]
  },
  {
   "cell_type": "markdown",
   "id": "e6d5266d",
   "metadata": {},
   "source": [
    "### Exemple"
   ]
  },
  {
   "cell_type": "code",
   "execution_count": 9,
   "id": "bb79dc3e",
   "metadata": {},
   "outputs": [
    {
     "name": "stdout",
     "output_type": "stream",
     "text": [
      "Le nom : Zoléni\n",
      "Le nom : Xavier\n"
     ]
    }
   ],
   "source": [
    "# Le principe d'héritage\n",
    "\n",
    "class person:\n",
    "    def __init__(self, nom, age):\n",
    "        self.nom=nom\n",
    "        self.age=age\n",
    "    def afficher(self):\n",
    "        print(\"Le nom :\",self.nom)    \n",
    "\n",
    " # Définir une sous-classe ou bien classe fille       \n",
    "class etudiant(person):\n",
    "    def __init__(self, nom,age,note):\n",
    "        person.__init__(self,nom,age)\n",
    "        self.note=note\n",
    "    def afficher(self):\n",
    "         super().afficher()\n",
    "       \n",
    " # Définir une sous-classe ou bien classe fille      \n",
    "class professeur(person):\n",
    "    def __init__(self,nom,age,salaire):\n",
    "        person.__init__(self,nom,age)\n",
    "        self.salaire=salaire\n",
    "    def afficher(self):\n",
    "        super().afficher()    \n",
    "\n",
    "# Instanciation = création d'un objet à partir d'une classe\n",
    "etd1=etudiant(\"Zoléni\", 19,17)\n",
    "etd1.afficher()\n",
    "pr1=professeur(\"Xavier\", 26, 1300)\n",
    "pr1.afficher()\n",
    "\n",
    "# print(f\"nom : {etd1.nom}, age: {etd1.age}\")"
   ]
  },
  {
   "cell_type": "markdown",
   "id": "f1774358",
   "metadata": {},
   "source": [
    "La classe fille peut également hériter de deux classes mères."
   ]
  },
  {
   "cell_type": "markdown",
   "id": "c1faccef",
   "metadata": {},
   "source": [
    "### Exercice effectué à l'ENSEA"
   ]
  },
  {
   "cell_type": "code",
   "execution_count": 1,
   "id": "749d4e03",
   "metadata": {},
   "outputs": [
    {
     "ename": "ModuleNotFoundError",
     "evalue": "No module named 'scripts.Classes_Exo_1'",
     "output_type": "error",
     "traceback": [
      "\u001b[1;31m---------------------------------------------------------------------------\u001b[0m",
      "\u001b[1;31mModuleNotFoundError\u001b[0m                       Traceback (most recent call last)",
      "Cell \u001b[1;32mIn[1], line 3\u001b[0m\n\u001b[0;32m      1\u001b[0m \u001b[38;5;66;03m# Script python effectué à l'ENSEA (cf Classes_Exo_1.py)\u001b[39;00m\n\u001b[1;32m----> 3\u001b[0m \u001b[38;5;28;01mfrom\u001b[39;00m\u001b[38;5;250m \u001b[39m\u001b[38;5;21;01mscripts\u001b[39;00m\u001b[38;5;21;01m.\u001b[39;00m\u001b[38;5;21;01mClasses_Exo_1\u001b[39;00m\u001b[38;5;250m \u001b[39m\u001b[38;5;28;01mimport\u001b[39;00m professor\n\u001b[0;32m      4\u001b[0m pr1\u001b[38;5;241m=\u001b[39mprofessor(\u001b[38;5;124m\"\u001b[39m\u001b[38;5;124mDuChandelier\u001b[39m\u001b[38;5;124m\"\u001b[39m,\u001b[38;5;124m\"\u001b[39m\u001b[38;5;124mXavier\u001b[39m\u001b[38;5;124m\"\u001b[39m,\u001b[38;5;241m2500\u001b[39m,\u001b[38;5;124m\"\u001b[39m\u001b[38;5;124mmédecin généraliste\u001b[39m\u001b[38;5;124m\"\u001b[39m)\n\u001b[0;32m      5\u001b[0m pr1\u001b[38;5;241m.\u001b[39mafficher()\n",
      "\u001b[1;31mModuleNotFoundError\u001b[0m: No module named 'scripts.Classes_Exo_1'"
     ]
    }
   ],
   "source": [
    "# Script python effectué à l'ENSEA (cf Classes_Exo_1.py)\n",
    "\n",
    "from scripts.Classes_Exo_1 import professor\n",
    "pr1=professor(\"DuChandelier\",\"Xavier\",2500,\"médecin généraliste\")\n",
    "pr1.afficher()"
   ]
  },
  {
   "cell_type": "markdown",
   "id": "074f3d98",
   "metadata": {},
   "source": [
    "## 3. Savoir lier les objets de classes différentes entre eux"
   ]
  },
  {
   "cell_type": "markdown",
   "id": "db6b803f",
   "metadata": {},
   "source": [
    "On peut ainsi lier les objets entre eux et ils seront programmés selon leurs méthodes de leur __class__ respective"
   ]
  },
  {
   "cell_type": "markdown",
   "id": "035f225a",
   "metadata": {},
   "source": [
    "Programme liant 2 classes "
   ]
  },
  {
   "cell_type": "code",
   "execution_count": null,
   "id": "570f5071",
   "metadata": {},
   "outputs": [],
   "source": [
    "class Membre:\n",
    "    \"\"\"Les infos de chaque membre de la famille (nom, prénom, age,...)\"\"\"\n",
    "    def __init__(self, prenom, nom):\n",
    "        self.nom = nom\n",
    "        self.prenom = prenom\n",
    "\n",
    "    def afficher_infos(self):\n",
    "        print(f\"Prénom: {self.prenom}\\nNom: {self.nom}\\n\\n\")"
   ]
  },
  {
   "cell_type": "code",
   "execution_count": null,
   "id": "234d1b75",
   "metadata": {},
   "outputs": [],
   "source": [
    "class Famille:\n",
    "    \"\"\"Cette classe permet de créer une famille\\n\"\"\"\n",
    "\n",
    "    def __init__(self, nom):\n",
    "        self.nom = nom\n",
    "        self.famille = []\n",
    "\n",
    "    def afficher(self):\n",
    "        print(f\"La Famille {self.nom}\\n\")\n",
    "    \n",
    "    def ajouter(self, membre):\n",
    "        self.famille.append(membre)\n",
    "\n",
    "    def afficher_famille(self):\n",
    "        if not self.famille:\n",
    "            print(\"La famille est vide.\")\n",
    "        else:\n",
    "            for membre in self.famille:\n",
    "                membre.afficher_infos()   # ----> Activation de la méthode afficher_infos() programmé dans la classe Membre"
   ]
  },
  {
   "cell_type": "code",
   "execution_count": null,
   "id": "ced5fe61",
   "metadata": {},
   "outputs": [
    {
     "name": "stdout",
     "output_type": "stream",
     "text": [
      "La Famille Kokolo Zassi\n",
      "\n",
      "Prénom: Zoléni\n",
      "Nom: Kokolo Zassi\n",
      "\n",
      "\n",
      "Prénom: Daphné\n",
      "Nom: Kokolo Zassi\n",
      "\n",
      "\n",
      "Prénom: Johéda\n",
      "Nom: Kokolo Zassi\n",
      "\n",
      "\n"
     ]
    }
   ],
   "source": [
    "membre_1 = Membre(\"Zoléni\", \"Kokolo Zassi\")\n",
    "membre_2 = Membre(\"Daphné\", \"Kokolo Zassi\")\n",
    "membre_3 = Membre(\"Johéda\", \"Kokolo Zassi\")\n",
    "\n",
    "famille = Famille(\"Kokolo Zassi\")\n",
    "famille.ajouter(membre_1)\n",
    "famille.ajouter(membre_2)\n",
    "famille.ajouter(membre_3)\n",
    "famille.afficher()\n",
    "famille.afficher_famille()"
   ]
  },
  {
   "cell_type": "markdown",
   "id": "5178727f",
   "metadata": {},
   "source": [
    "# L'encapsulation"
   ]
  },
  {
   "cell_type": "markdown",
   "id": "8b195307",
   "metadata": {},
   "source": [
    "- 3 types de visibilité :\n",
    "\n",
    "    - Public = tt le monde peut y accéder\n",
    "    - Protected = seul la class qui possède l'élément et la class fille peut y accéder\n",
    "    - Private = seul la classe poosédant l'élément peut y accéder\n"
   ]
  },
  {
   "cell_type": "code",
   "execution_count": null,
   "id": "b08ea76c",
   "metadata": {},
   "outputs": [],
   "source": [
    "# Revoir le concept car pas bien compris"
   ]
  },
  {
   "cell_type": "markdown",
   "id": "241c998b",
   "metadata": {},
   "source": [
    " # Les classes Abstraites"
   ]
  },
  {
   "cell_type": "markdown",
   "id": "94bbbdcd",
   "metadata": {},
   "source": [
    "- Une classe abstraite est une classe possédant une méthode abstraite. \n",
    "- La spécificité est qu'on ne peut pas créer d'objets avec une méthode abstraite."
   ]
  },
  {
   "cell_type": "markdown",
   "id": "5dc65c60",
   "metadata": {},
   "source": [
    "### Exemple 1: les Véhicules"
   ]
  },
  {
   "cell_type": "code",
   "execution_count": null,
   "id": "e1f058d1",
   "metadata": {},
   "outputs": [],
   "source": [
    "# Les classes Abstraites\n",
    "\n",
    "from abc import ABC, abstractmethod \n",
    "\n",
    "# Création  d'une classe abstraite\n",
    "class Vehicule(ABC):\n",
    "    def __init__(self, vitesse):\n",
    "        self.vitesse=vitesse\n",
    "\n",
    "    @abstractmethod        # ----> Argument permettant d'indiquer à Python que c'est une classe abstraite\n",
    "    def printInfo(self):\n",
    "        pass\n",
    "\n",
    "# Création d'une classe héritant d'une classe mère\n",
    "class moto(Vehicule):\n",
    "    def __init__(self, vitesse):\n",
    "        Vehicule.__init__(self,vitesse)\n",
    "    def printInfo(self):\n",
    "        print (\"Im a moto with speed\", self.vitesse)\n",
    "    def augmanter_vitesse(self,x):\n",
    "        self.vitesse+=x"
   ]
  },
  {
   "cell_type": "code",
   "execution_count": null,
   "id": "9b064783",
   "metadata": {},
   "outputs": [
    {
     "name": "stdout",
     "output_type": "stream",
     "text": [
      "Im a moto with speed 20\n",
      "Im a moto with speed 40\n"
     ]
    }
   ],
   "source": [
    "roues_2 = moto(20)\n",
    "roues_2.printInfo()\n",
    "roues_2.augmanter_vitesse(20)\n",
    "roues_2.printInfo()"
   ]
  },
  {
   "cell_type": "code",
   "execution_count": null,
   "id": "b57168d3",
   "metadata": {},
   "outputs": [
    {
     "ename": "TypeError",
     "evalue": "Can't instantiate abstract class Vehicule without an implementation for abstract method 'printInfo'",
     "output_type": "error",
     "traceback": [
      "\u001b[1;31m---------------------------------------------------------------------------\u001b[0m",
      "\u001b[1;31mTypeError\u001b[0m                                 Traceback (most recent call last)",
      "Cell \u001b[1;32mIn[17], line 4\u001b[0m\n\u001b[0;32m      1\u001b[0m \u001b[38;5;66;03m# On ne peut pas créer des objets à partir de classes abstraites\u001b[39;00m\n\u001b[0;32m      2\u001b[0m \u001b[38;5;66;03m# Faisons le test...\u001b[39;00m\n\u001b[1;32m----> 4\u001b[0m ve\u001b[38;5;241m=\u001b[39m\u001b[43mVehicule\u001b[49m\u001b[43m(\u001b[49m\u001b[38;5;241;43m20\u001b[39;49m\u001b[43m)\u001b[49m \u001b[38;5;66;03m# ----> Objet venant de la classe Véhicule\u001b[39;00m\n",
      "\u001b[1;31mTypeError\u001b[0m: Can't instantiate abstract class Vehicule without an implementation for abstract method 'printInfo'"
     ]
    }
   ],
   "source": [
    "# On ne peut pas créer des objets à partir de classes abstraites\n",
    "# Faisons le test...\n",
    "\n",
    "ve=Vehicule(20) # ----> Objet venant de la classe Véhicule"
   ]
  },
  {
   "cell_type": "markdown",
   "id": "b781159c",
   "metadata": {},
   "source": [
    "#### Exemple 2: le système de paiement"
   ]
  },
  {
   "cell_type": "code",
   "execution_count": null,
   "id": "e625d121",
   "metadata": {},
   "outputs": [],
   "source": [
    "# Système de paiement\n",
    "\n",
    "from abc import ABC, abstractmethod\n",
    "\n",
    "# Création de la classe abstraite ModePaiement \n",
    "class ModePaiement(ABC):\n",
    "    def __init__(self,montant):\n",
    "        self.montant=montant\n",
    "    @abstractmethod\n",
    "    def effectuer_paiement():\n",
    "        pass\n",
    "\n",
    "\n",
    "# Création de la classe Cartebancaire \n",
    "# 1er mode de paiement\n",
    "class Cartebancaire(ModePaiement):\n",
    "    def __init__(self, montant,num):\n",
    "        ModePaiement.__init__(self,montant)\n",
    "        self.num=num\n",
    "    def effectuer_paiement(self):\n",
    "        self.num=input(\"Mettez votre numéro de carte [16 chiffres]: \")\n",
    "        if len(self.num)==16: \n",
    "            print(f\"Paiement effectué avec la carte bancaire avec un montant de {self.montant} €.\")\n",
    "        else:\n",
    "            print(\"Ce n'est pas le numéro d'une carte bancaire. Echec de l'opération.\")\n",
    "\n",
    "\n",
    "# Création de la classe PayPal \n",
    "# 2ème mode de paiement\n",
    "class PayPal(ModePaiement):\n",
    "    def __init__(self, montant,adress):\n",
    "        ModePaiement.__init__(self,montant)\n",
    "        self.adress=adress\n",
    "    def effectuer_paiement(self):\n",
    "        self.adress=str(input(\"Mettez votre adresse mail :\"))\n",
    "        if (\"@gmail.com\" or \"@yahoo.fr\"or \"@outlook.com\") in self.adress:\n",
    "            print(f\"Paiement de {self.adress} effectué avec Paypal avec un montant de {self.montant} €.\")\n",
    "        elif (\"@ensea.fr\" or \"@societe.com\") in self.adress:\n",
    "            print(f\"Paiement effectué avec Paypal via une société avec un montant de {self.montant} €.\")\n",
    "        else:\n",
    "            print(\"Ce n'est pas une adresse mail. Echec de l'opération.\")"
   ]
  },
  {
   "cell_type": "code",
   "execution_count": null,
   "id": "16dec1f5",
   "metadata": {},
   "outputs": [
    {
     "name": "stdout",
     "output_type": "stream",
     "text": [
      "Paiement effectué avec la carte bancaire avec un montant de 564 €.\n"
     ]
    }
   ],
   "source": [
    "# Le programme en lui-même\n",
    "\n",
    "montant=int(input(\"Mettez votre montant: \"))\n",
    "mode=str(input(\"Choisissez le mode de paiement : \"))\n",
    "if mode==\"CB\"or mode==\"carte bancaire\":\n",
    "    mode=Cartebancaire(montant,8)\n",
    "    mode.effectuer_paiement()\n",
    "elif mode==\"Paypal\" or mode==\"PP\":\n",
    "    mode=PayPal(montant,8)\n",
    "    mode.effectuer_paiement()\n",
    "else:\n",
    "     print(\"\\nJe ne connais pas ce mode de paiement. Choisissez les modes de paiements suivants:\\n\",\n",
    "      \"['CB','carte bancaire','PP','Paypal']. \\n\",\n",
    "     \"Echec de l'opération...\")"
   ]
  }
 ],
 "metadata": {
  "kernelspec": {
   "display_name": "Python 3",
   "language": "python",
   "name": "python3"
  },
  "language_info": {
   "codemirror_mode": {
    "name": "ipython",
    "version": 3
   },
   "file_extension": ".py",
   "mimetype": "text/x-python",
   "name": "python",
   "nbconvert_exporter": "python",
   "pygments_lexer": "ipython3",
   "version": "3.12.10"
  }
 },
 "nbformat": 4,
 "nbformat_minor": 5
}
